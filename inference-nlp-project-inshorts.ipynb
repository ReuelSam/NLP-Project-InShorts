{
 "cells": [
  {
   "cell_type": "code",
   "execution_count": 1,
   "metadata": {
    "_cell_guid": "b1076dfc-b9ad-4769-8c92-a6c4dae69d19",
    "_uuid": "8f2839f25d086af736a60e9eeb907d3b93b6e0e5",
    "execution": {
     "iopub.execute_input": "2021-12-29T01:53:58.609737Z",
     "iopub.status.busy": "2021-12-29T01:53:58.609315Z",
     "iopub.status.idle": "2021-12-29T01:53:58.616411Z",
     "shell.execute_reply": "2021-12-29T01:53:58.615255Z",
     "shell.execute_reply.started": "2021-12-29T01:53:58.609659Z"
    }
   },
   "outputs": [],
   "source": [
    "import numpy as np\n",
    "import pandas as pd\n",
    "import os"
   ]
  },
  {
   "cell_type": "code",
   "execution_count": 2,
   "metadata": {
    "execution": {
     "iopub.execute_input": "2021-12-29T01:54:00.227588Z",
     "iopub.status.busy": "2021-12-29T01:54:00.227175Z",
     "iopub.status.idle": "2021-12-29T01:54:00.233031Z",
     "shell.execute_reply": "2021-12-29T01:54:00.231684Z",
     "shell.execute_reply.started": "2021-12-29T01:54:00.227522Z"
    }
   },
   "outputs": [],
   "source": [
    "max_text_len=100\n",
    "max_summary_len=20\n",
    "\n",
    "x_voc = 25545\n",
    "y_voc = 7629"
   ]
  },
  {
   "cell_type": "code",
   "execution_count": 3,
   "metadata": {
    "execution": {
     "iopub.execute_input": "2021-12-29T01:54:01.943409Z",
     "iopub.status.busy": "2021-12-29T01:54:01.943078Z",
     "iopub.status.idle": "2021-12-29T01:54:04.635022Z",
     "shell.execute_reply": "2021-12-29T01:54:04.632818Z",
     "shell.execute_reply.started": "2021-12-29T01:54:01.943346Z"
    }
   },
   "outputs": [
    {
     "name": "stderr",
     "output_type": "stream",
     "text": [
      "Using TensorFlow backend.\n"
     ]
    },
    {
     "name": "stdout",
     "output_type": "stream",
     "text": [
      "Size of vocabulary from the w2v model = 25545\n",
      "Model: \"model\"\n",
      "__________________________________________________________________________________________________\n",
      "Layer (type)                    Output Shape         Param #     Connected to                     \n",
      "==================================================================================================\n",
      "input_1 (InputLayer)            [(None, 100)]        0                                            \n",
      "__________________________________________________________________________________________________\n",
      "embedding (Embedding)           (None, 100, 200)     5109000     input_1[0][0]                    \n",
      "__________________________________________________________________________________________________\n",
      "lstm (LSTM)                     [(None, 100, 300), ( 601200      embedding[0][0]                  \n",
      "__________________________________________________________________________________________________\n",
      "lstm_1 (LSTM)                   [(None, 100, 300), ( 721200      lstm[0][0]                       \n",
      "__________________________________________________________________________________________________\n",
      "input_2 (InputLayer)            [(None, None)]       0                                            \n",
      "__________________________________________________________________________________________________\n",
      "lstm_2 (LSTM)                   [(None, 100, 300), ( 721200      lstm_1[0][0]                     \n",
      "                                                                 lstm_2[0][0]                     \n",
      "__________________________________________________________________________________________________\n",
      "embedding_1 (Embedding)         (None, None, 200)    1525800     input_2[0][0]                    \n",
      "__________________________________________________________________________________________________\n",
      "lstm_4 (LSTM)                   [(None, None, 300),  601200      embedding_1[0][0]                \n",
      "                                                                 lstm_2[1][1]                     \n",
      "                                                                 lstm_2[1][2]                     \n",
      "__________________________________________________________________________________________________\n",
      "time_distributed (TimeDistribut (None, None, 7629)   2296329     lstm_4[0][0]                     \n",
      "==================================================================================================\n",
      "Total params: 11,575,929\n",
      "Trainable params: 11,575,929\n",
      "Non-trainable params: 0\n",
      "__________________________________________________________________________________________________\n"
     ]
    }
   ],
   "source": [
    "from keras import backend as K \n",
    "import gensim\n",
    "from numpy import *\n",
    "import numpy as np\n",
    "import pandas as pd \n",
    "import re\n",
    "from bs4 import BeautifulSoup\n",
    "from keras.preprocessing.text import Tokenizer \n",
    "from keras.preprocessing.sequence import pad_sequences\n",
    "from nltk.corpus import stopwords\n",
    "from tensorflow.keras.layers import Input, LSTM, Embedding, Dense, Concatenate, TimeDistributed\n",
    "from tensorflow.keras.models import Model, load_model\n",
    "from tensorflow.keras.callbacks import EarlyStopping\n",
    "import warnings\n",
    "pd.set_option(\"display.max_colwidth\", 200)\n",
    "warnings.filterwarnings(\"ignore\")\n",
    "\n",
    "print(\"Size of vocabulary from the w2v model = {}\".format(x_voc))\n",
    "\n",
    "K.clear_session()\n",
    "\n",
    "latent_dim = 300\n",
    "embedding_dim=200\n",
    "\n",
    "encoder_inputs = Input(shape=(max_text_len,))\n",
    "\n",
    "enc_emb =  Embedding(x_voc, embedding_dim,trainable=True)(encoder_inputs)\n",
    "\n",
    "encoder_lstm1 = LSTM(latent_dim,return_sequences=True,return_state=True,dropout=0.4,recurrent_dropout=0.4)\n",
    "encoder_output1, state_h1, state_c1 = encoder_lstm1(enc_emb)\n",
    "\n",
    "encoder_lstm2 = LSTM(latent_dim,return_sequences=True,return_state=True,dropout=0.4,recurrent_dropout=0.4)\n",
    "encoder_output2, state_h2, state_c2 = encoder_lstm2(encoder_output1)\n",
    "\n",
    "encoder_lstm3=LSTM(latent_dim, return_state=True, return_sequences=True,dropout=0.4,recurrent_dropout=0.4)\n",
    "encoder_output3, state_h3, state_c3= encoder_lstm3(encoder_output2)\n",
    "\n",
    "encoder_lstm4=LSTM(latent_dim, return_state=True, return_sequences=True,dropout=0.4,recurrent_dropout=0.4)\n",
    "encoder_outputs, state_h, state_c= encoder_lstm3(encoder_output3)\n",
    "\n",
    "\n",
    "decoder_inputs = Input(shape=(None,))\n",
    "\n",
    "dec_emb_layer = Embedding(y_voc, embedding_dim,trainable=True)\n",
    "dec_emb = dec_emb_layer(decoder_inputs)\n",
    "\n",
    "decoder_lstm = LSTM(latent_dim, return_sequences=True, return_state=True,dropout=0.4,recurrent_dropout=0.2)\n",
    "decoder_outputs,decoder_fwd_state, decoder_back_state = decoder_lstm(dec_emb,initial_state=[state_h, state_c])\n",
    "\n",
    "decoder_dense =  TimeDistributed(Dense(y_voc, activation='softmax'))\n",
    "decoder_outputs = decoder_dense(decoder_outputs)\n",
    "\n",
    "model = Model([encoder_inputs, decoder_inputs], decoder_outputs)\n",
    "\n",
    "model.summary()\n"
   ]
  },
  {
   "cell_type": "code",
   "execution_count": 4,
   "metadata": {
    "execution": {
     "iopub.execute_input": "2021-12-29T01:54:08.183876Z",
     "iopub.status.busy": "2021-12-29T01:54:08.183421Z",
     "iopub.status.idle": "2021-12-29T01:54:21.219626Z",
     "shell.execute_reply": "2021-12-29T01:54:21.218739Z",
     "shell.execute_reply.started": "2021-12-29T01:54:08.183798Z"
    }
   },
   "outputs": [],
   "source": [
    "model = load_model(\"../input/nlp100lstmrmspropweights/nlp_100_weights.h5py\")"
   ]
  },
  {
   "cell_type": "code",
   "execution_count": 5,
   "metadata": {
    "execution": {
     "iopub.execute_input": "2021-12-29T01:54:21.222221Z",
     "iopub.status.busy": "2021-12-29T01:54:21.221818Z",
     "iopub.status.idle": "2021-12-29T01:54:21.241629Z",
     "shell.execute_reply": "2021-12-29T01:54:21.240568Z",
     "shell.execute_reply.started": "2021-12-29T01:54:21.222083Z"
    }
   },
   "outputs": [
    {
     "name": "stdout",
     "output_type": "stream",
     "text": [
      "Model: \"model\"\n",
      "__________________________________________________________________________________________________\n",
      "Layer (type)                    Output Shape         Param #     Connected to                     \n",
      "==================================================================================================\n",
      "input_1 (InputLayer)            [(None, 100)]        0                                            \n",
      "__________________________________________________________________________________________________\n",
      "embedding (Embedding)           (None, 100, 200)     5109000     input_1[0][0]                    \n",
      "__________________________________________________________________________________________________\n",
      "lstm (LSTM)                     [(None, 100, 300), ( 601200      embedding[0][0]                  \n",
      "__________________________________________________________________________________________________\n",
      "lstm_1 (LSTM)                   [(None, 100, 300), ( 721200      lstm[0][0]                       \n",
      "__________________________________________________________________________________________________\n",
      "input_2 (InputLayer)            [(None, None)]       0                                            \n",
      "__________________________________________________________________________________________________\n",
      "lstm_2 (LSTM)                   [(None, 100, 300), ( 721200      lstm_1[0][0]                     \n",
      "                                                                 lstm_2[0][0]                     \n",
      "__________________________________________________________________________________________________\n",
      "embedding_1 (Embedding)         (None, None, 200)    1525800     input_2[0][0]                    \n",
      "__________________________________________________________________________________________________\n",
      "lstm_4 (LSTM)                   [(None, None, 300),  601200      embedding_1[0][0]                \n",
      "                                                                 lstm_2[1][1]                     \n",
      "                                                                 lstm_2[1][2]                     \n",
      "__________________________________________________________________________________________________\n",
      "time_distributed (TimeDistribut (None, None, 7629)   2296329     lstm_4[0][0]                     \n",
      "==================================================================================================\n",
      "Total params: 11,575,929\n",
      "Trainable params: 11,575,929\n",
      "Non-trainable params: 0\n",
      "__________________________________________________________________________________________________\n"
     ]
    }
   ],
   "source": [
    "model.summary()"
   ]
  },
  {
   "cell_type": "code",
   "execution_count": 8,
   "metadata": {
    "execution": {
     "iopub.execute_input": "2021-12-29T01:54:25.879447Z",
     "iopub.status.busy": "2021-12-29T01:54:25.879005Z",
     "iopub.status.idle": "2021-12-29T01:54:25.913507Z",
     "shell.execute_reply": "2021-12-29T01:54:25.912237Z",
     "shell.execute_reply.started": "2021-12-29T01:54:25.879354Z"
    }
   },
   "outputs": [],
   "source": [
    "import re\n",
    "\n",
    "def text_strip(row):\n",
    "        \n",
    "    row=re.sub(\"(\\\\t)\", ' ', str(row)).lower() #remove escape charecters\n",
    "    row=re.sub(\"(\\\\r)\", ' ', str(row)).lower() \n",
    "    row=re.sub(\"(\\\\n)\", ' ', str(row)).lower()\n",
    "\n",
    "    row=re.sub(\"(__+)\", ' ', str(row)).lower()   #remove _ if it occors more than one time consecutively\n",
    "    row=re.sub(\"(--+)\", ' ', str(row)).lower()   #remove - if it occors more than one time consecutively\n",
    "    row=re.sub(\"(~~+)\", ' ', str(row)).lower()   #remove ~ if it occors more than one time consecutively\n",
    "    row=re.sub(\"(\\+\\++)\", ' ', str(row)).lower()   #remove + if it occors more than one time consecutively\n",
    "    row=re.sub(\"(\\.\\.+)\", ' ', str(row)).lower()   #remove . if it occors more than one time consecutively\n",
    "\n",
    "    row=re.sub(r\"[<>()|&©ø\\[\\]\\'\\\",;?~*!]\", ' ', str(row)).lower() #remove <>()|&©ø\"',;?~*!\n",
    "\n",
    "    row=re.sub(\"(mailto:)\", ' ', str(row)).lower() #remove mailto:\n",
    "    row=re.sub(r\"(\\\\x9\\d)\", ' ', str(row)).lower() #remove \\x9* in text\n",
    "    row=re.sub(\"([iI][nN][cC]\\d+)\", 'INC_NUM', str(row)).lower() #replace INC nums to INC_NUM\n",
    "    row=re.sub(\"([cC][mM]\\d+)|([cC][hH][gG]\\d+)\", 'CM_NUM', str(row)).lower() #replace CM# and CHG# to CM_NUM\n",
    "\n",
    "\n",
    "    row=re.sub(\"(\\.\\s+)\", ' ', str(row)).lower() #remove full stop at end of words(not between)\n",
    "    row=re.sub(\"(\\-\\s+)\", ' ', str(row)).lower() #remove - at end of words(not between)\n",
    "    row=re.sub(\"(\\:\\s+)\", ' ', str(row)).lower() #remove : at end of words(not between)\n",
    "\n",
    "    row=re.sub(\"(\\s+.\\s+)\", ' ', str(row)).lower() #remove any single charecters hanging between 2 spaces\n",
    "\n",
    "    try:\n",
    "        url = re.search(r'((https*:\\/*)([^\\/\\s]+))(.[^\\s]+)', str(row))\n",
    "        repl_url = url.group(3)\n",
    "        row = re.sub(r'((https*:\\/*)([^\\/\\s]+))(.[^\\s]+)',repl_url, str(row))\n",
    "    except:\n",
    "        pass #there might be emails with no url in them\n",
    "\n",
    "\n",
    "\n",
    "    row = re.sub(\"(\\s+)\",' ',str(row)).lower() #remove multiple spaces\n",
    "\n",
    "    row=re.sub(\"(\\s+.\\s+)\", ' ', str(row)).lower() #remove any single charecters hanging between 2 spaces\n",
    "\n",
    "    return row"
   ]
  },
  {
   "cell_type": "code",
   "execution_count": 9,
   "metadata": {
    "execution": {
     "iopub.execute_input": "2021-12-29T01:54:28.807253Z",
     "iopub.status.busy": "2021-12-29T01:54:28.806905Z",
     "iopub.status.idle": "2021-12-29T01:54:29.627121Z",
     "shell.execute_reply": "2021-12-29T01:54:29.626039Z",
     "shell.execute_reply.started": "2021-12-29T01:54:28.807174Z"
    }
   },
   "outputs": [],
   "source": [
    "from keras_preprocessing.text import tokenizer_from_json\n",
    "import io, json\n",
    "\n",
    "with open('../input/nlp-tokenizers/x_tokenizer.json') as f:\n",
    "    data = json.load(f)\n",
    "    x_tokenizer = tokenizer_from_json(data)\n",
    "\n",
    "    \n",
    "with open('../input/nlp-tokenizers/y_tokenizer.json') as f:\n",
    "    data = json.load(f)\n",
    "    y_tokenizer = tokenizer_from_json(data)\n",
    "\n",
    "reverse_target_word_index=y_tokenizer.index_word\n",
    "reverse_source_word_index=x_tokenizer.index_word\n",
    "target_word_index=y_tokenizer.word_index"
   ]
  },
  {
   "cell_type": "code",
   "execution_count": 10,
   "metadata": {
    "execution": {
     "iopub.execute_input": "2021-12-29T01:54:32.558805Z",
     "iopub.status.busy": "2021-12-29T01:54:32.558237Z",
     "iopub.status.idle": "2021-12-29T01:54:32.568628Z",
     "shell.execute_reply": "2021-12-29T01:54:32.566527Z",
     "shell.execute_reply.started": "2021-12-29T01:54:32.558543Z"
    }
   },
   "outputs": [],
   "source": [
    "def preProcess(new_inp):\n",
    "    strip_inp = text_strip(new_inp)\n",
    "\n",
    "    final_inp = x_tokenizer.texts_to_sequences([strip_inp])\n",
    "    final_inp = pad_sequences(final_inp,  maxlen=max_text_len, padding='post')\n",
    "\n",
    "    return final_inp[0]\n"
   ]
  },
  {
   "cell_type": "code",
   "execution_count": 12,
   "metadata": {
    "execution": {
     "iopub.execute_input": "2021-12-29T01:54:38.277763Z",
     "iopub.status.busy": "2021-12-29T01:54:38.277372Z",
     "iopub.status.idle": "2021-12-29T01:54:38.657860Z",
     "shell.execute_reply": "2021-12-29T01:54:38.656821Z",
     "shell.execute_reply.started": "2021-12-29T01:54:38.277672Z"
    }
   },
   "outputs": [],
   "source": [
    "encoder_model = Model(inputs=encoder_inputs,outputs=[encoder_outputs, state_h, state_c])\n",
    "\n",
    "decoder_state_input_h = Input(shape=(latent_dim,))\n",
    "decoder_state_input_c = Input(shape=(latent_dim,))\n",
    "decoder_hidden_state_input = Input(shape=(max_text_len,latent_dim))\n",
    "\n",
    "dec_emb2= dec_emb_layer(decoder_inputs) \n",
    "decoder_outputs2, state_h2, state_c2 = decoder_lstm(dec_emb2, initial_state=[decoder_state_input_h, decoder_state_input_c])\n",
    "\n",
    "decoder_outputs2 = decoder_dense(decoder_outputs2) \n",
    "\n",
    "decoder_model = Model(\n",
    "    [decoder_inputs] + [decoder_hidden_state_input,decoder_state_input_h, decoder_state_input_c],\n",
    "    [decoder_outputs2] + [state_h2, state_c2])"
   ]
  },
  {
   "cell_type": "code",
   "execution_count": 13,
   "metadata": {
    "execution": {
     "iopub.execute_input": "2021-12-29T01:54:39.808904Z",
     "iopub.status.busy": "2021-12-29T01:54:39.808523Z",
     "iopub.status.idle": "2021-12-29T01:54:39.820473Z",
     "shell.execute_reply": "2021-12-29T01:54:39.818090Z",
     "shell.execute_reply.started": "2021-12-29T01:54:39.808844Z"
    }
   },
   "outputs": [],
   "source": [
    "def decode_sequence(input_seq):\n",
    "    e_out, e_h, e_c = encoder_model.predict(input_seq)\n",
    "    \n",
    "    target_seq = np.zeros((1,1))\n",
    "    \n",
    "    target_seq[0, 0] = target_word_index['sostok']\n",
    "\n",
    "    stop_condition = False\n",
    "    decoded_sentence = ''\n",
    "    while not stop_condition:\n",
    "      \n",
    "        output_tokens, h, c = decoder_model.predict([target_seq] + [e_out, e_h, e_c])\n",
    "\n",
    "        sampled_token_index = np.argmax(output_tokens[0, -1, :])\n",
    "        sampled_token = reverse_target_word_index[sampled_token_index]\n",
    "        \n",
    "        if(sampled_token!='eostok'):\n",
    "            decoded_sentence += ' '+sampled_token\n",
    "\n",
    "        if (sampled_token == 'eostok'  or len(decoded_sentence.split()) >= (max_summary_len-1)):\n",
    "            stop_condition = True\n",
    "\n",
    "        target_seq = np.zeros((1,1))\n",
    "        target_seq[0, 0] = sampled_token_index\n",
    "\n",
    "        e_h, e_c = h, c\n",
    "\n",
    "    return decoded_sentence"
   ]
  },
  {
   "cell_type": "code",
   "execution_count": 14,
   "metadata": {
    "execution": {
     "iopub.execute_input": "2021-12-29T01:54:41.421887Z",
     "iopub.status.busy": "2021-12-29T01:54:41.421520Z",
     "iopub.status.idle": "2021-12-29T01:54:41.433062Z",
     "shell.execute_reply": "2021-12-29T01:54:41.431975Z",
     "shell.execute_reply.started": "2021-12-29T01:54:41.421823Z"
    }
   },
   "outputs": [],
   "source": [
    "def seq2summary(input_seq):\n",
    "    newString=''\n",
    "    for i in input_seq:\n",
    "        if((i!=0 and i!=target_word_index['sostok']) and i!=target_word_index['eostok']):\n",
    "            newString=newString+reverse_target_word_index[i]+' '\n",
    "    return newString\n",
    "\n",
    "def seq2text(input_seq):\n",
    "    newString=''\n",
    "    for i in input_seq:\n",
    "        if(i!=0):\n",
    "            newString=newString+reverse_source_word_index[i]+' '\n",
    "    return newString"
   ]
  },
  {
   "cell_type": "code",
   "execution_count": 15,
   "metadata": {
    "execution": {
     "iopub.execute_input": "2021-12-29T01:54:43.415775Z",
     "iopub.status.busy": "2021-12-29T01:54:43.415388Z",
     "iopub.status.idle": "2021-12-29T01:54:43.427822Z",
     "shell.execute_reply": "2021-12-29T01:54:43.426474Z",
     "shell.execute_reply.started": "2021-12-29T01:54:43.415710Z"
    }
   },
   "outputs": [
    {
     "name": "stdout",
     "output_type": "stream",
     "text": [
      "Review: south korean smartphone maker samsung has unveiled new black variant of its galaxy s7 edge smartphone called pearl black which looks similar to the jet black iphone variant the colour will be exclusive to the 128 gb version of the device and will be available to buy in select markets from december 9 \n",
      "Predicted summary: start samsung unveils galaxy s7 edge in one end\n"
     ]
    }
   ],
   "source": [
    "new_inp = \"South Korean smartphone maker Samsung has unveiled new black variant of its Galaxy S7 Edge smartphone called pearl black which looks similar to the jet black iphone variant. The colour will be exclusive to the 128 gb version of the device and will be available to buy in select markets from december 9\"\n",
    "final_inp = preProcess(new_inp)\n",
    "print(\"Review:\", seq2text(final_inp))\n",
    "print(\"Predicted summary:\",decode_sequence(final_inp.reshape(1,max_text_len)))"
   ]
  },
  {
   "cell_type": "code",
   "execution_count": 16,
   "metadata": {
    "execution": {
     "iopub.execute_input": "2021-12-29T01:54:45.929368Z",
     "iopub.status.busy": "2021-12-29T01:54:45.929014Z",
     "iopub.status.idle": "2021-12-29T01:54:45.939263Z",
     "shell.execute_reply": "2021-12-29T01:54:45.937709Z",
     "shell.execute_reply.started": "2021-12-29T01:54:45.929298Z"
    }
   },
   "outputs": [
    {
     "name": "stdout",
     "output_type": "stream",
     "text": [
      "Review: former delhi bjp mla vijay jolly has been booked for rape after woman alleged that he sexually assaulted her police said on thursday the delhi based woman accused the former legislator of spiking her drink before sexually assaulting her in gurugram resort jolly had also filed police complaint against the woman accusing her of blackmailing and extortion \n",
      "Predicted summary: start bjp mla booked for 39 39 end\n"
     ]
    }
   ],
   "source": [
    "new_inp = \"former delhi bjp mla vijay jolly has been booked for rape after woman alleged that he sexually assaulted her police said on thursday the delhi-based woman accused the former legislator of spiking her drink before sexually assaulting her in gurugram resort jolly had also filed police complaint against the woman accusing her of blackmailing and extortion.\"\n",
    "final_inp = preProcess(new_inp)\n",
    "print(\"Review:\", seq2text(final_inp))\n",
    "print(\"Predicted summary:\",decode_sequence(final_inp.reshape(1,max_text_len)))"
   ]
  },
  {
   "cell_type": "code",
   "execution_count": 17,
   "metadata": {
    "execution": {
     "iopub.execute_input": "2021-12-29T01:54:48.701011Z",
     "iopub.status.busy": "2021-12-29T01:54:48.700591Z",
     "iopub.status.idle": "2021-12-29T01:54:48.711105Z",
     "shell.execute_reply": "2021-12-29T01:54:48.709530Z",
     "shell.execute_reply.started": "2021-12-29T01:54:48.700946Z"
    }
   },
   "outputs": [
    {
     "name": "stdout",
     "output_type": "stream",
     "text": [
      "Review: india 39 top ranked shuttler pv sindhu made winning start to the world superseries finals in dubai after winning her opening round match against world number eight yamaguchi on wednesday the rio silver medal winning badminton player beat yamaguchi 12 21 21 8 21 15 in the group match sindhu will next face china 39 sun yu in her next group game \n",
      "Predicted summary: start india wins silver at asian championships end\n"
     ]
    }
   ],
   "source": [
    "new_inp = \"india #39 top-ranked shuttler pv sindhu made winning start to the world superseries finals in dubai after winning her opening round match against world number eight akane yamaguchi on wednesday the rio silver medal winning badminton player beat yamaguchi 12-21 21-8 21-15 in the group match sindhu will next face china #39 sun yu in her next group game.\"\n",
    "final_inp = preProcess(new_inp)\n",
    "print(\"Review:\", seq2text(final_inp))\n",
    "print(\"Predicted summary:\",decode_sequence(final_inp.reshape(1,max_text_len)))"
   ]
  },
  {
   "cell_type": "code",
   "execution_count": 18,
   "metadata": {
    "execution": {
     "iopub.execute_input": "2021-12-29T01:54:49.894004Z",
     "iopub.status.busy": "2021-12-29T01:54:49.893485Z",
     "iopub.status.idle": "2021-12-29T01:54:49.904231Z",
     "shell.execute_reply": "2021-12-29T01:54:49.902899Z",
     "shell.execute_reply.started": "2021-12-29T01:54:49.893912Z"
    }
   },
   "outputs": [
    {
     "name": "stdout",
     "output_type": "stream",
     "text": [
      "Review: a three minute video explains how smoke is caused by small particles floating in the air and how pollution affects the human body detailing the standard measurements to analyse pollution the video adds that air pollution is linked to health problems like heart disease stroke and autism it further explains how particles can get into the lungs and cause serious damage \n",
      "Predicted summary: start video explains why we can 39 be end\n"
     ]
    }
   ],
   "source": [
    "new_inp = \"a three-minute video explains how smoke is caused by small particles floating in the air and how pollution affects the human body detailing the standard measurements to analyse pollution the video adds that air pollution is linked to health problems like heart disease stroke and autism it further explains how particles can get into the lungs and cause serious damage.\"\n",
    "final_inp = preProcess(new_inp)\n",
    "print(\"Review:\", seq2text(final_inp))\n",
    "print(\"Predicted summary:\",decode_sequence(final_inp.reshape(1,max_text_len)))"
   ]
  },
  {
   "cell_type": "code",
   "execution_count": 19,
   "metadata": {
    "execution": {
     "iopub.execute_input": "2021-12-29T01:54:51.673341Z",
     "iopub.status.busy": "2021-12-29T01:54:51.673006Z",
     "iopub.status.idle": "2021-12-29T01:54:51.683043Z",
     "shell.execute_reply": "2021-12-29T01:54:51.681829Z",
     "shell.execute_reply.started": "2021-12-29T01:54:51.673271Z"
    }
   },
   "outputs": [
    {
     "name": "stdout",
     "output_type": "stream",
     "text": [
      "Review: alastair cook became the first england player to break into the top ten run in test cricket history after scoring 12 runs in the second innings against india in the third test cook who now has 10 runs in 249 test innings overtook former australian captain steve waugh who had scored 10 runs in his test career \n",
      "Predicted summary: start ashwin 39 first ever test ton helps australia beat england end\n"
     ]
    }
   ],
   "source": [
    "new_inp = \"alastair cook became the first england player to break into the top ten run-getters in test cricket history after scoring 12 runs in the second innings against india in the third test cook who now has 10 934 runs in 249 test innings overtook former australian captain steve waugh who had scored 10 927 runs in his test career.\"\n",
    "final_inp = preProcess(new_inp)\n",
    "print(\"Review:\", seq2text(final_inp))\n",
    "print(\"Predicted summary:\",decode_sequence(final_inp.reshape(1,max_text_len)))"
   ]
  }
 ],
 "metadata": {
  "kernelspec": {
   "display_name": "Python 3",
   "language": "python",
   "name": "python3"
  },
  "language_info": {
   "codemirror_mode": {
    "name": "ipython",
    "version": 3
   },
   "file_extension": ".py",
   "mimetype": "text/x-python",
   "name": "python",
   "nbconvert_exporter": "python",
   "pygments_lexer": "ipython3",
   "version": "3.6.6"
  }
 },
 "nbformat": 4,
 "nbformat_minor": 4
}
