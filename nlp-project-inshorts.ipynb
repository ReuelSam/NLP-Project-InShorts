{
 "cells": [
  {
   "cell_type": "code",
   "execution_count": 1,
   "metadata": {
    "_cell_guid": "b1076dfc-b9ad-4769-8c92-a6c4dae69d19",
    "_uuid": "8f2839f25d086af736a60e9eeb907d3b93b6e0e5",
    "execution": {
     "iopub.execute_input": "2021-12-28T16:15:24.843406Z",
     "iopub.status.busy": "2021-12-28T16:15:24.843078Z",
     "iopub.status.idle": "2021-12-28T16:15:25.127772Z",
     "shell.execute_reply": "2021-12-28T16:15:25.126726Z",
     "shell.execute_reply.started": "2021-12-28T16:15:24.843345Z"
    }
   },
   "outputs": [
    {
     "name": "stdout",
     "output_type": "stream",
     "text": [
      "/kaggle/input/word2vec-for-text-summarization/__results__.html\n",
      "/kaggle/input/word2vec-for-text-summarization/__notebook__.ipynb\n",
      "/kaggle/input/word2vec-for-text-summarization/__output__.json\n",
      "/kaggle/input/word2vec-for-text-summarization/w2v_text_summ_200d_09162019\n",
      "/kaggle/input/word2vec-for-text-summarization/custom.css\n",
      "/kaggle/input/news-summary/news_summary_more.csv\n",
      "/kaggle/input/news-summary/news_summary.csv\n",
      "/kaggle/input/inshorts-news-data/Inshorts Cleaned Data.xlsx\n"
     ]
    }
   ],
   "source": [
    "import numpy as np\n",
    "import pandas as pd\n",
    "import os\n"
   ]
  },
  {
   "cell_type": "code",
   "execution_count": 2,
   "metadata": {
    "_cell_guid": "79c7e3d0-c299-4dcb-8224-4455121ee9b0",
    "_uuid": "d629ff2d2480ee46fbb7e2d37f6b5fab8052498a",
    "execution": {
     "iopub.execute_input": "2021-12-28T16:16:15.205740Z",
     "iopub.status.busy": "2021-12-28T16:16:15.205369Z",
     "iopub.status.idle": "2021-12-28T16:16:26.623573Z",
     "shell.execute_reply": "2021-12-28T16:16:26.622567Z",
     "shell.execute_reply.started": "2021-12-28T16:16:15.205679Z"
    }
   },
   "outputs": [],
   "source": [
    "pre = pd.read_excel('../input/inshorts-news-data/Inshorts Cleaned Data.xlsx')"
   ]
  },
  {
   "cell_type": "code",
   "execution_count": 3,
   "metadata": {
    "execution": {
     "iopub.execute_input": "2021-12-28T16:16:26.626855Z",
     "iopub.status.busy": "2021-12-28T16:16:26.626404Z",
     "iopub.status.idle": "2021-12-28T16:16:26.659003Z",
     "shell.execute_reply": "2021-12-28T16:16:26.657911Z",
     "shell.execute_reply.started": "2021-12-28T16:16:26.626787Z"
    }
   },
   "outputs": [
    {
     "data": {
      "text/html": [
       "<div>\n",
       "<style scoped>\n",
       "    .dataframe tbody tr th:only-of-type {\n",
       "        vertical-align: middle;\n",
       "    }\n",
       "\n",
       "    .dataframe tbody tr th {\n",
       "        vertical-align: top;\n",
       "    }\n",
       "\n",
       "    .dataframe thead th {\n",
       "        text-align: right;\n",
       "    }\n",
       "</style>\n",
       "<table border=\"1\" class=\"dataframe\">\n",
       "  <thead>\n",
       "    <tr style=\"text-align: right;\">\n",
       "      <th></th>\n",
       "      <th>Headline</th>\n",
       "      <th>Short</th>\n",
       "    </tr>\n",
       "  </thead>\n",
       "  <tbody>\n",
       "    <tr>\n",
       "      <td>0</td>\n",
       "      <td>4 ex-bank officials booked for cheating bank o...</td>\n",
       "      <td>The CBI on Saturday booked four former officia...</td>\n",
       "    </tr>\n",
       "    <tr>\n",
       "      <td>1</td>\n",
       "      <td>Supreme Court to go paperless in 6 months: CJI</td>\n",
       "      <td>Chief Justice JS Khehar has said the Supreme C...</td>\n",
       "    </tr>\n",
       "    <tr>\n",
       "      <td>2</td>\n",
       "      <td>At least 3 killed, 30 injured in blast in Sylh...</td>\n",
       "      <td>At least three people were killed, including a...</td>\n",
       "    </tr>\n",
       "    <tr>\n",
       "      <td>3</td>\n",
       "      <td>Why has Reliance been barred from trading in f...</td>\n",
       "      <td>Mukesh Ambani-led Reliance Industries (RIL) wa...</td>\n",
       "    </tr>\n",
       "    <tr>\n",
       "      <td>4</td>\n",
       "      <td>Was stopped from entering my own studio at Tim...</td>\n",
       "      <td>TV news anchor Arnab Goswami has said he was t...</td>\n",
       "    </tr>\n",
       "  </tbody>\n",
       "</table>\n",
       "</div>"
      ],
      "text/plain": [
       "                                            Headline  \\\n",
       "0  4 ex-bank officials booked for cheating bank o...   \n",
       "1     Supreme Court to go paperless in 6 months: CJI   \n",
       "2  At least 3 killed, 30 injured in blast in Sylh...   \n",
       "3  Why has Reliance been barred from trading in f...   \n",
       "4  Was stopped from entering my own studio at Tim...   \n",
       "\n",
       "                                               Short  \n",
       "0  The CBI on Saturday booked four former officia...  \n",
       "1  Chief Justice JS Khehar has said the Supreme C...  \n",
       "2  At least three people were killed, including a...  \n",
       "3  Mukesh Ambani-led Reliance Industries (RIL) wa...  \n",
       "4  TV news anchor Arnab Goswami has said he was t...  "
      ]
     },
     "execution_count": 3,
     "metadata": {},
     "output_type": "execute_result"
    }
   ],
   "source": [
    "pre.drop(['Source ', 'Time ', 'Publish Date'], axis=1, inplace=True)\n",
    "pre.head()"
   ]
  },
  {
   "cell_type": "code",
   "execution_count": 6,
   "metadata": {
    "execution": {
     "iopub.execute_input": "2021-12-28T16:16:26.683138Z",
     "iopub.status.busy": "2021-12-28T16:16:26.682235Z",
     "iopub.status.idle": "2021-12-28T16:16:26.700415Z",
     "shell.execute_reply": "2021-12-28T16:16:26.699393Z",
     "shell.execute_reply.started": "2021-12-28T16:16:26.683060Z"
    }
   },
   "outputs": [
    {
     "data": {
      "text/html": [
       "<div>\n",
       "<style scoped>\n",
       "    .dataframe tbody tr th:only-of-type {\n",
       "        vertical-align: middle;\n",
       "    }\n",
       "\n",
       "    .dataframe tbody tr th {\n",
       "        vertical-align: top;\n",
       "    }\n",
       "\n",
       "    .dataframe thead th {\n",
       "        text-align: right;\n",
       "    }\n",
       "</style>\n",
       "<table border=\"1\" class=\"dataframe\">\n",
       "  <thead>\n",
       "    <tr style=\"text-align: right;\">\n",
       "      <th></th>\n",
       "      <th>Headline</th>\n",
       "      <th>Short</th>\n",
       "    </tr>\n",
       "  </thead>\n",
       "  <tbody>\n",
       "    <tr>\n",
       "      <td>0</td>\n",
       "      <td>4 ex-bank officials booked for cheating bank o...</td>\n",
       "      <td>The CBI on Saturday booked four former officia...</td>\n",
       "    </tr>\n",
       "    <tr>\n",
       "      <td>1</td>\n",
       "      <td>Supreme Court to go paperless in 6 months: CJI</td>\n",
       "      <td>Chief Justice JS Khehar has said the Supreme C...</td>\n",
       "    </tr>\n",
       "  </tbody>\n",
       "</table>\n",
       "</div>"
      ],
      "text/plain": [
       "                                            Headline  \\\n",
       "0  4 ex-bank officials booked for cheating bank o...   \n",
       "1     Supreme Court to go paperless in 6 months: CJI   \n",
       "\n",
       "                                               Short  \n",
       "0  The CBI on Saturday booked four former officia...  \n",
       "1  Chief Justice JS Khehar has said the Supreme C...  "
      ]
     },
     "execution_count": 6,
     "metadata": {},
     "output_type": "execute_result"
    }
   ],
   "source": [
    "pre.head(2)"
   ]
  },
  {
   "cell_type": "code",
   "execution_count": 7,
   "metadata": {
    "execution": {
     "iopub.execute_input": "2021-12-28T16:16:26.702588Z",
     "iopub.status.busy": "2021-12-28T16:16:26.701956Z",
     "iopub.status.idle": "2021-12-28T16:16:26.713525Z",
     "shell.execute_reply": "2021-12-28T16:16:26.712266Z",
     "shell.execute_reply.started": "2021-12-28T16:16:26.702512Z"
    }
   },
   "outputs": [
    {
     "data": {
      "text/plain": [
       "0    4 ex-bank officials booked for cheating bank o...\n",
       "1       Supreme Court to go paperless in 6 months: CJI\n",
       "2    At least 3 killed, 30 injured in blast in Sylh...\n",
       "3    Why has Reliance been barred from trading in f...\n",
       "4    Was stopped from entering my own studio at Tim...\n",
       "5     New trailer of &#39;Justice League&#39; released\n",
       "6    His touch was not right: Shilpa Shinde on sexu...\n",
       "7    Anti-Romeo squads must not trouble consenting ...\n",
       "8    Both Romeo and Juliet are welcome in Delhi: AA...\n",
       "9    30 blasts occur at ordnance factory in MP,  20...\n",
       "Name: Headline, dtype: object"
      ]
     },
     "execution_count": 7,
     "metadata": {},
     "output_type": "execute_result"
    }
   ],
   "source": [
    "pre['Headline'][:10]"
   ]
  },
  {
   "cell_type": "markdown",
   "metadata": {},
   "source": [
    "> **Perform Data Cleansing**"
   ]
  },
  {
   "cell_type": "code",
   "execution_count": 8,
   "metadata": {
    "execution": {
     "iopub.execute_input": "2021-12-28T16:16:29.048741Z",
     "iopub.status.busy": "2021-12-28T16:16:29.048368Z",
     "iopub.status.idle": "2021-12-28T16:16:29.067432Z",
     "shell.execute_reply": "2021-12-28T16:16:29.066280Z",
     "shell.execute_reply.started": "2021-12-28T16:16:29.048666Z"
    }
   },
   "outputs": [],
   "source": [
    "import re\n",
    "\n",
    "def text_strip(column):\n",
    "    for row in column:\n",
    "        \n",
    "        row=re.sub(\"(\\\\t)\", ' ', str(row)).lower() #remove escape charecters\n",
    "        row=re.sub(\"(\\\\r)\", ' ', str(row)).lower() \n",
    "        row=re.sub(\"(\\\\n)\", ' ', str(row)).lower()\n",
    "        \n",
    "        row=re.sub(\"(__+)\", ' ', str(row)).lower()   #remove _ if it occors more than one time consecutively\n",
    "        row=re.sub(\"(--+)\", ' ', str(row)).lower()   #remove - if it occors more than one time consecutively\n",
    "        row=re.sub(\"(~~+)\", ' ', str(row)).lower()   #remove ~ if it occors more than one time consecutively\n",
    "        row=re.sub(\"(\\+\\++)\", ' ', str(row)).lower()   #remove + if it occors more than one time consecutively\n",
    "        row=re.sub(\"(\\.\\.+)\", ' ', str(row)).lower()   #remove . if it occors more than one time consecutively\n",
    "        \n",
    "        row=re.sub(r\"[<>()|&©ø\\[\\]\\'\\\",;?~*!]\", ' ', str(row)).lower() #remove <>()|&©ø\"',;?~*!\n",
    "        \n",
    "        row=re.sub(\"(mailto:)\", ' ', str(row)).lower() #remove mailto:\n",
    "        row=re.sub(r\"(\\\\x9\\d)\", ' ', str(row)).lower() #remove \\x9* in text\n",
    "        row=re.sub(\"([iI][nN][cC]\\d+)\", 'INC_NUM', str(row)).lower() #replace INC nums to INC_NUM\n",
    "        row=re.sub(\"([cC][mM]\\d+)|([cC][hH][gG]\\d+)\", 'CM_NUM', str(row)).lower() #replace CM# and CHG# to CM_NUM\n",
    "        \n",
    "        \n",
    "        row=re.sub(\"(\\.\\s+)\", ' ', str(row)).lower() #remove full stop at end of words(not between)\n",
    "        row=re.sub(\"(\\-\\s+)\", ' ', str(row)).lower() #remove - at end of words(not between)\n",
    "        row=re.sub(\"(\\:\\s+)\", ' ', str(row)).lower() #remove : at end of words(not between)\n",
    "        \n",
    "        row=re.sub(\"(\\s+.\\s+)\", ' ', str(row)).lower() #remove any single charecters hanging between 2 spaces\n",
    "        \n",
    "        try:\n",
    "            url = re.search(r'((https*:\\/*)([^\\/\\s]+))(.[^\\s]+)', str(row))\n",
    "            repl_url = url.group(3)\n",
    "            row = re.sub(r'((https*:\\/*)([^\\/\\s]+))(.[^\\s]+)',repl_url, str(row))\n",
    "        except:\n",
    "            pass #there might be emails with no url in them\n",
    "        \n",
    "\n",
    "        \n",
    "        row = re.sub(\"(\\s+)\",' ',str(row)).lower() #remove multiple spaces\n",
    "        \n",
    "        row=re.sub(\"(\\s+.\\s+)\", ' ', str(row)).lower() #remove any single charecters hanging between 2 spaces\n",
    "\n",
    "        yield row\n",
    "\n",
    "\n"
   ]
  },
  {
   "cell_type": "code",
   "execution_count": 9,
   "metadata": {
    "execution": {
     "iopub.execute_input": "2021-12-28T16:16:29.236222Z",
     "iopub.status.busy": "2021-12-28T16:16:29.235867Z",
     "iopub.status.idle": "2021-12-28T16:16:29.241768Z",
     "shell.execute_reply": "2021-12-28T16:16:29.240580Z",
     "shell.execute_reply.started": "2021-12-28T16:16:29.236160Z"
    }
   },
   "outputs": [],
   "source": [
    "brief_cleaning1 = text_strip(pre['Short'])\n",
    "brief_cleaning2 = text_strip(pre['Headline'])"
   ]
  },
  {
   "cell_type": "code",
   "execution_count": 10,
   "metadata": {
    "execution": {
     "iopub.execute_input": "2021-12-28T16:16:31.596280Z",
     "iopub.status.busy": "2021-12-28T16:16:31.595942Z",
     "iopub.status.idle": "2021-12-28T16:20:48.723441Z",
     "shell.execute_reply": "2021-12-28T16:20:48.722316Z",
     "shell.execute_reply.started": "2021-12-28T16:16:31.596218Z"
    }
   },
   "outputs": [
    {
     "name": "stdout",
     "output_type": "stream",
     "text": [
      "Time to clean up everything: 3.75 mins\n"
     ]
    }
   ],
   "source": [
    "from time import time\n",
    "import spacy\n",
    "nlp = spacy.load('en', disable=['ner', 'parser']) # disabling Named Entity Recognition for speed\n",
    "\n",
    "t = time()\n",
    "\n",
    "#Batch the data points into 5000 and run on all cores for faster preprocessing\n",
    "text = [str(doc) for doc in nlp.pipe(brief_cleaning1, batch_size=5000, n_threads=-1)]\n",
    "\n",
    "print('Time to clean up everything: {} mins'.format(round((time() - t) / 60, 2)))"
   ]
  },
  {
   "cell_type": "code",
   "execution_count": 11,
   "metadata": {
    "execution": {
     "iopub.execute_input": "2021-12-28T16:21:33.477089Z",
     "iopub.status.busy": "2021-12-28T16:21:33.476722Z",
     "iopub.status.idle": "2021-12-28T16:22:56.872545Z",
     "shell.execute_reply": "2021-12-28T16:22:56.871407Z",
     "shell.execute_reply.started": "2021-12-28T16:21:33.477027Z"
    }
   },
   "outputs": [
    {
     "name": "stdout",
     "output_type": "stream",
     "text": [
      "Time to clean up everything: 1.23 mins\n"
     ]
    }
   ],
   "source": [
    "t = time()\n",
    "\n",
    "summary = ['_START_ '+ str(doc) + ' _END_' for doc in nlp.pipe(brief_cleaning2, batch_size=5000, n_threads=-1)]\n",
    "\n",
    "print('Time to clean up everything: {} mins'.format(round((time() - t) / 60, 2)))"
   ]
  },
  {
   "cell_type": "code",
   "execution_count": 12,
   "metadata": {
    "execution": {
     "iopub.execute_input": "2021-12-28T16:24:13.109488Z",
     "iopub.status.busy": "2021-12-28T16:24:13.109050Z",
     "iopub.status.idle": "2021-12-28T16:24:13.115833Z",
     "shell.execute_reply": "2021-12-28T16:24:13.114606Z",
     "shell.execute_reply.started": "2021-12-28T16:24:13.109393Z"
    }
   },
   "outputs": [
    {
     "data": {
      "text/plain": [
       "'the cbi on saturday booked four former officials of syndicate bank and six others for cheating forgery criminal conspiracy and causing ₹209 crore loss to the state-run bank the accused had availed home loans and credit from syndicate bank on the basis of forged and fabricated documents these funds were fraudulently transferred to the companies owned by the accused persons.'"
      ]
     },
     "execution_count": 12,
     "metadata": {},
     "output_type": "execute_result"
    }
   ],
   "source": [
    "text[0]"
   ]
  },
  {
   "cell_type": "code",
   "execution_count": 13,
   "metadata": {
    "execution": {
     "iopub.execute_input": "2021-12-28T16:24:14.029468Z",
     "iopub.status.busy": "2021-12-28T16:24:14.029134Z",
     "iopub.status.idle": "2021-12-28T16:24:14.037031Z",
     "shell.execute_reply": "2021-12-28T16:24:14.035736Z",
     "shell.execute_reply.started": "2021-12-28T16:24:14.029405Z"
    }
   },
   "outputs": [
    {
     "data": {
      "text/plain": [
       "'_START_ 4 ex-bank officials booked for cheating bank of ₹209 crore _END_'"
      ]
     },
     "execution_count": 13,
     "metadata": {},
     "output_type": "execute_result"
    }
   ],
   "source": [
    "summary[0]"
   ]
  },
  {
   "cell_type": "code",
   "execution_count": 14,
   "metadata": {
    "execution": {
     "iopub.execute_input": "2021-12-28T16:24:14.561753Z",
     "iopub.status.busy": "2021-12-28T16:24:14.561394Z",
     "iopub.status.idle": "2021-12-28T16:24:14.587030Z",
     "shell.execute_reply": "2021-12-28T16:24:14.585864Z",
     "shell.execute_reply.started": "2021-12-28T16:24:14.561690Z"
    }
   },
   "outputs": [],
   "source": [
    "pre['cleaned_text'] = pd.Series(text)\n",
    "pre['cleaned_summary'] = pd.Series(summary)"
   ]
  },
  {
   "cell_type": "code",
   "execution_count": 15,
   "metadata": {
    "execution": {
     "iopub.execute_input": "2021-12-28T16:24:14.843165Z",
     "iopub.status.busy": "2021-12-28T16:24:14.842805Z",
     "iopub.status.idle": "2021-12-28T16:24:14.848677Z",
     "shell.execute_reply": "2021-12-28T16:24:14.847103Z",
     "shell.execute_reply.started": "2021-12-28T16:24:14.843091Z"
    }
   },
   "outputs": [],
   "source": [
    "text_count = []\n",
    "summary_count = []"
   ]
  },
  {
   "cell_type": "code",
   "execution_count": 16,
   "metadata": {
    "execution": {
     "iopub.execute_input": "2021-12-28T16:24:15.685658Z",
     "iopub.status.busy": "2021-12-28T16:24:15.685274Z",
     "iopub.status.idle": "2021-12-28T16:24:16.003966Z",
     "shell.execute_reply": "2021-12-28T16:24:16.003110Z",
     "shell.execute_reply.started": "2021-12-28T16:24:15.685598Z"
    }
   },
   "outputs": [],
   "source": [
    "for sent in pre['cleaned_text']:\n",
    "    text_count.append(len(sent.split()))\n",
    "for sent in pre['cleaned_summary']:\n",
    "    summary_count.append(len(sent.split()))"
   ]
  },
  {
   "cell_type": "code",
   "execution_count": 17,
   "metadata": {
    "execution": {
     "iopub.execute_input": "2021-12-28T16:24:16.584782Z",
     "iopub.status.busy": "2021-12-28T16:24:16.584444Z",
     "iopub.status.idle": "2021-12-28T16:24:16.672935Z",
     "shell.execute_reply": "2021-12-28T16:24:16.671976Z",
     "shell.execute_reply.started": "2021-12-28T16:24:16.584721Z"
    }
   },
   "outputs": [],
   "source": [
    "graph_df= pd.DataFrame()\n",
    "graph_df['text']=text_count\n",
    "graph_df['summary']=summary_count"
   ]
  },
  {
   "cell_type": "code",
   "execution_count": 18,
   "metadata": {
    "execution": {
     "iopub.execute_input": "2021-12-28T16:24:17.813552Z",
     "iopub.status.busy": "2021-12-28T16:24:17.812995Z",
     "iopub.status.idle": "2021-12-28T16:24:18.341685Z",
     "shell.execute_reply": "2021-12-28T16:24:18.340527Z",
     "shell.execute_reply.started": "2021-12-28T16:24:17.813280Z"
    }
   },
   "outputs": [
    {
     "data": {
      "image/png": "[encoded data removed]",
      "text/plain": [
       "<Figure size 432x288 with 2 Axes>"
      ]
     },
     "metadata": {
      "needs_background": "light"
     },
     "output_type": "display_data"
    }
   ],
   "source": [
    "import matplotlib.pyplot as plt\n",
    "\n",
    "graph_df.hist(bins = 5)\n",
    "plt.show()"
   ]
  },
  {
   "cell_type": "code",
   "execution_count": 19,
   "metadata": {
    "execution": {
     "iopub.execute_input": "2021-12-28T16:24:19.451224Z",
     "iopub.status.busy": "2021-12-28T16:24:19.450906Z",
     "iopub.status.idle": "2021-12-28T16:24:19.535583Z",
     "shell.execute_reply": "2021-12-28T16:24:19.534474Z",
     "shell.execute_reply.started": "2021-12-28T16:24:19.451165Z"
    }
   },
   "outputs": [
    {
     "name": "stdout",
     "output_type": "stream",
     "text": [
      "0.9970419570267132\n"
     ]
    }
   ],
   "source": [
    "#Check how much % of summary have 0-15 words\n",
    "cnt=0\n",
    "for i in pre['cleaned_summary']:\n",
    "    if(len(i.split())<=15):\n",
    "        cnt=cnt+1\n",
    "print(cnt/len(pre['cleaned_summary']))"
   ]
  },
  {
   "cell_type": "code",
   "execution_count": 20,
   "metadata": {
    "execution": {
     "iopub.execute_input": "2021-12-28T16:24:20.072066Z",
     "iopub.status.busy": "2021-12-28T16:24:20.071682Z",
     "iopub.status.idle": "2021-12-28T16:24:20.321424Z",
     "shell.execute_reply": "2021-12-28T16:24:20.320326Z",
     "shell.execute_reply.started": "2021-12-28T16:24:20.072006Z"
    }
   },
   "outputs": [
    {
     "name": "stdout",
     "output_type": "stream",
     "text": [
      "1.0\n"
     ]
    }
   ],
   "source": [
    "#Check how much % of text have 0-70 words\n",
    "cnt=0\n",
    "for i in pre['cleaned_text']:\n",
    "    if(len(i.split())<=100):\n",
    "        cnt=cnt+1\n",
    "print(cnt/len(pre['cleaned_text']))"
   ]
  },
  {
   "cell_type": "code",
   "execution_count": 21,
   "metadata": {
    "execution": {
     "iopub.execute_input": "2021-12-28T16:24:21.198718Z",
     "iopub.status.busy": "2021-12-28T16:24:21.198343Z",
     "iopub.status.idle": "2021-12-28T16:24:21.204370Z",
     "shell.execute_reply": "2021-12-28T16:24:21.203154Z",
     "shell.execute_reply.started": "2021-12-28T16:24:21.198656Z"
    }
   },
   "outputs": [],
   "source": [
    "max_text_len=100\n",
    "max_summary_len=20"
   ]
  },
  {
   "cell_type": "code",
   "execution_count": 22,
   "metadata": {
    "execution": {
     "iopub.execute_input": "2021-12-28T16:24:24.171157Z",
     "iopub.status.busy": "2021-12-28T16:24:24.170750Z",
     "iopub.status.idle": "2021-12-28T16:24:24.571485Z",
     "shell.execute_reply": "2021-12-28T16:24:24.570606Z",
     "shell.execute_reply.started": "2021-12-28T16:24:24.171090Z"
    }
   },
   "outputs": [],
   "source": [
    "cleaned_text =np.array(pre['cleaned_text'])\n",
    "cleaned_summary=np.array(pre['cleaned_summary'])\n",
    "\n",
    "short_text=[]\n",
    "short_summary=[]\n",
    "\n",
    "for i in range(len(cleaned_text)):\n",
    "    if(len(cleaned_summary[i].split())<=max_summary_len and len(cleaned_text[i].split())<=max_text_len):\n",
    "        short_text.append(cleaned_text[i])\n",
    "        short_summary.append(cleaned_summary[i])\n",
    "        \n",
    "post_pre=pd.DataFrame({'text':short_text,'summary':short_summary})"
   ]
  },
  {
   "cell_type": "code",
   "execution_count": 23,
   "metadata": {
    "execution": {
     "iopub.execute_input": "2021-12-28T16:24:24.991145Z",
     "iopub.status.busy": "2021-12-28T16:24:24.990820Z",
     "iopub.status.idle": "2021-12-28T16:24:25.007768Z",
     "shell.execute_reply": "2021-12-28T16:24:25.006543Z",
     "shell.execute_reply.started": "2021-12-28T16:24:24.991084Z"
    }
   },
   "outputs": [
    {
     "data": {
      "text/html": [
       "<div>\n",
       "<style scoped>\n",
       "    .dataframe tbody tr th:only-of-type {\n",
       "        vertical-align: middle;\n",
       "    }\n",
       "\n",
       "    .dataframe tbody tr th {\n",
       "        vertical-align: top;\n",
       "    }\n",
       "\n",
       "    .dataframe thead th {\n",
       "        text-align: right;\n",
       "    }\n",
       "</style>\n",
       "<table border=\"1\" class=\"dataframe\">\n",
       "  <thead>\n",
       "    <tr style=\"text-align: right;\">\n",
       "      <th></th>\n",
       "      <th>text</th>\n",
       "      <th>summary</th>\n",
       "    </tr>\n",
       "  </thead>\n",
       "  <tbody>\n",
       "    <tr>\n",
       "      <td>0</td>\n",
       "      <td>the cbi on saturday booked four former officia...</td>\n",
       "      <td>_START_ 4 ex-bank officials booked for cheatin...</td>\n",
       "    </tr>\n",
       "    <tr>\n",
       "      <td>1</td>\n",
       "      <td>chief justice js khehar has said the supreme c...</td>\n",
       "      <td>_START_ supreme court to go paperless in month...</td>\n",
       "    </tr>\n",
       "  </tbody>\n",
       "</table>\n",
       "</div>"
      ],
      "text/plain": [
       "                                                text  \\\n",
       "0  the cbi on saturday booked four former officia...   \n",
       "1  chief justice js khehar has said the supreme c...   \n",
       "\n",
       "                                             summary  \n",
       "0  _START_ 4 ex-bank officials booked for cheatin...  \n",
       "1  _START_ supreme court to go paperless in month...  "
      ]
     },
     "execution_count": 23,
     "metadata": {},
     "output_type": "execute_result"
    }
   ],
   "source": [
    "post_pre.head(2)"
   ]
  },
  {
   "cell_type": "code",
   "execution_count": 24,
   "metadata": {
    "execution": {
     "iopub.execute_input": "2021-12-28T16:24:25.823460Z",
     "iopub.status.busy": "2021-12-28T16:24:25.822652Z",
     "iopub.status.idle": "2021-12-28T16:24:25.865754Z",
     "shell.execute_reply": "2021-12-28T16:24:25.864552Z",
     "shell.execute_reply.started": "2021-12-28T16:24:25.823084Z"
    }
   },
   "outputs": [],
   "source": [
    "post_pre['summary'] = post_pre['summary'].apply(lambda x : 'sostok '+ x + ' eostok')\n"
   ]
  },
  {
   "cell_type": "code",
   "execution_count": 25,
   "metadata": {
    "execution": {
     "iopub.execute_input": "2021-12-28T16:24:26.518795Z",
     "iopub.status.busy": "2021-12-28T16:24:26.518100Z",
     "iopub.status.idle": "2021-12-28T16:24:26.535664Z",
     "shell.execute_reply": "2021-12-28T16:24:26.534793Z",
     "shell.execute_reply.started": "2021-12-28T16:24:26.518619Z"
    }
   },
   "outputs": [
    {
     "data": {
      "text/html": [
       "<div>\n",
       "<style scoped>\n",
       "    .dataframe tbody tr th:only-of-type {\n",
       "        vertical-align: middle;\n",
       "    }\n",
       "\n",
       "    .dataframe tbody tr th {\n",
       "        vertical-align: top;\n",
       "    }\n",
       "\n",
       "    .dataframe thead th {\n",
       "        text-align: right;\n",
       "    }\n",
       "</style>\n",
       "<table border=\"1\" class=\"dataframe\">\n",
       "  <thead>\n",
       "    <tr style=\"text-align: right;\">\n",
       "      <th></th>\n",
       "      <th>text</th>\n",
       "      <th>summary</th>\n",
       "    </tr>\n",
       "  </thead>\n",
       "  <tbody>\n",
       "    <tr>\n",
       "      <td>0</td>\n",
       "      <td>the cbi on saturday booked four former officia...</td>\n",
       "      <td>sostok _START_ 4 ex-bank officials booked for ...</td>\n",
       "    </tr>\n",
       "    <tr>\n",
       "      <td>1</td>\n",
       "      <td>chief justice js khehar has said the supreme c...</td>\n",
       "      <td>sostok _START_ supreme court to go paperless i...</td>\n",
       "    </tr>\n",
       "  </tbody>\n",
       "</table>\n",
       "</div>"
      ],
      "text/plain": [
       "                                                text  \\\n",
       "0  the cbi on saturday booked four former officia...   \n",
       "1  chief justice js khehar has said the supreme c...   \n",
       "\n",
       "                                             summary  \n",
       "0  sostok _START_ 4 ex-bank officials booked for ...  \n",
       "1  sostok _START_ supreme court to go paperless i...  "
      ]
     },
     "execution_count": 25,
     "metadata": {},
     "output_type": "execute_result"
    }
   ],
   "source": [
    "post_pre.head(2)"
   ]
  },
  {
   "cell_type": "markdown",
   "metadata": {},
   "source": [
    "**SEQ2SEQ MODEL BUILDING **"
   ]
  },
  {
   "cell_type": "markdown",
   "metadata": {},
   "source": [
    "Split the data to TRAIN and VALIDATION sets"
   ]
  },
  {
   "cell_type": "code",
   "execution_count": 26,
   "metadata": {
    "execution": {
     "iopub.execute_input": "2021-12-28T16:24:28.770160Z",
     "iopub.status.busy": "2021-12-28T16:24:28.769853Z",
     "iopub.status.idle": "2021-12-28T16:24:29.639925Z",
     "shell.execute_reply": "2021-12-28T16:24:29.638802Z",
     "shell.execute_reply.started": "2021-12-28T16:24:28.770103Z"
    }
   },
   "outputs": [],
   "source": [
    "from sklearn.model_selection import train_test_split\n",
    "x_tr,x_val,y_tr,y_val=train_test_split(np.array(post_pre['text']),np.array(post_pre['summary']),test_size=0.1,random_state=0,shuffle=True)\n",
    "x_tr,x_test,y_tr,y_test=train_test_split(x_tr, y_tr, test_size=0.1,random_state=0,shuffle=True)"
   ]
  },
  {
   "cell_type": "code",
   "execution_count": 27,
   "metadata": {
    "execution": {
     "iopub.execute_input": "2021-12-28T16:24:29.642508Z",
     "iopub.status.busy": "2021-12-28T16:24:29.642135Z",
     "iopub.status.idle": "2021-12-28T16:24:29.650040Z",
     "shell.execute_reply": "2021-12-28T16:24:29.649006Z",
     "shell.execute_reply.started": "2021-12-28T16:24:29.642438Z"
    }
   },
   "outputs": [
    {
     "data": {
      "text/plain": [
       "array(['sostok _START_ new poster of emma watson #39 #39 beauty and the beast #39 out _END_ eostok',\n",
       "       'sostok _START_ microsoft donated ₹1.6 crore to trump inauguration report _END_ eostok',\n",
       "       'sostok _START_ kejriwal learns punjabi ahead of punjab polls _END_ eostok',\n",
       "       'sostok _START_ banks refusing to exchange soiled notes to be fined ₹10 000 _END_ eostok',\n",
       "       'sostok _START_ vaani kapoor features on dec cover of vogue india _END_ eostok',\n",
       "       'sostok _START_ union cabinet approves new power tariff policy _END_ eostok',\n",
       "       'sostok _START_ censor board has denied certificate to mohalla assi pahlaj _END_ eostok',\n",
       "       'sostok _START_ pataudi is the only cricketer to play for india and england _END_ eostok',\n",
       "       'sostok _START_ man who put fake #39 churan lable #39 ₹2 000 notes in atm arrested _END_ eostok',\n",
       "       'sostok _START_ euro zone releases another $3 billion loan to greece _END_ eostok'],\n",
       "      dtype=object)"
      ]
     },
     "execution_count": 27,
     "metadata": {},
     "output_type": "execute_result"
    }
   ],
   "source": [
    "y_tr[:10]"
   ]
  },
  {
   "cell_type": "code",
   "execution_count": 28,
   "metadata": {
    "execution": {
     "iopub.execute_input": "2021-12-28T16:24:30.311927Z",
     "iopub.status.busy": "2021-12-28T16:24:30.311615Z",
     "iopub.status.idle": "2021-12-28T16:24:34.034373Z",
     "shell.execute_reply": "2021-12-28T16:24:34.033175Z",
     "shell.execute_reply.started": "2021-12-28T16:24:30.311870Z"
    }
   },
   "outputs": [
    {
     "name": "stderr",
     "output_type": "stream",
     "text": [
      "Using TensorFlow backend.\n"
     ]
    }
   ],
   "source": [
    "from keras.preprocessing.text import Tokenizer \n",
    "from keras.preprocessing.sequence import pad_sequences\n",
    "\n",
    "x_tokenizer = Tokenizer() \n",
    "x_tokenizer.fit_on_texts(list(x_tr))"
   ]
  },
  {
   "cell_type": "code",
   "execution_count": 29,
   "metadata": {
    "execution": {
     "iopub.execute_input": "2021-12-28T16:24:34.037324Z",
     "iopub.status.busy": "2021-12-28T16:24:34.036885Z",
     "iopub.status.idle": "2021-12-28T16:24:34.099063Z",
     "shell.execute_reply": "2021-12-28T16:24:34.098090Z",
     "shell.execute_reply.started": "2021-12-28T16:24:34.037234Z"
    }
   },
   "outputs": [
    {
     "name": "stdout",
     "output_type": "stream",
     "text": [
      "% of rare words in vocabulary: 62.52182461082501\n",
      "Total Coverage of rare words: 2.2981886188938017\n"
     ]
    }
   ],
   "source": [
    "thresh=4\n",
    "\n",
    "cnt=0\n",
    "tot_cnt=0\n",
    "freq=0\n",
    "tot_freq=0\n",
    "\n",
    "for key,value in x_tokenizer.word_counts.items():\n",
    "    tot_cnt=tot_cnt+1\n",
    "    tot_freq=tot_freq+value\n",
    "    if(value<thresh):\n",
    "        cnt=cnt+1\n",
    "        freq=freq+value\n",
    "    \n",
    "print(\"% of rare words in vocabulary:\",(cnt/tot_cnt)*100)\n",
    "print(\"Total Coverage of rare words:\",(freq/tot_freq)*100)"
   ]
  },
  {
   "cell_type": "code",
   "execution_count": 30,
   "metadata": {
    "execution": {
     "iopub.execute_input": "2021-12-28T16:24:34.101431Z",
     "iopub.status.busy": "2021-12-28T16:24:34.101025Z",
     "iopub.status.idle": "2021-12-28T16:24:42.662527Z",
     "shell.execute_reply": "2021-12-28T16:24:42.661273Z",
     "shell.execute_reply.started": "2021-12-28T16:24:34.101370Z"
    }
   },
   "outputs": [
    {
     "name": "stdout",
     "output_type": "stream",
     "text": [
      "Size of vocabulary in X = 25545\n"
     ]
    }
   ],
   "source": [
    "\n",
    "x_tokenizer = Tokenizer(num_words=tot_cnt-cnt) \n",
    "x_tokenizer.fit_on_texts(list(x_tr))\n",
    "\n",
    "x_tr_seq    =   x_tokenizer.texts_to_sequences(x_tr) \n",
    "x_val_seq   =   x_tokenizer.texts_to_sequences(x_val)\n",
    "x_test_seq   =   x_tokenizer.texts_to_sequences(x_test)\n",
    "\n",
    "\n",
    "x_tr    =   pad_sequences(x_tr_seq,  maxlen=max_text_len, padding='post')\n",
    "x_val   =   pad_sequences(x_val_seq, maxlen=max_text_len, padding='post')\n",
    "x_test   =   pad_sequences(x_test_seq, maxlen=max_text_len, padding='post')\n",
    "\n",
    "\n",
    "x_voc   =  x_tokenizer.num_words + 1\n",
    "\n",
    "print(\"Size of vocabulary in X = {}\".format(x_voc))"
   ]
  },
  {
   "cell_type": "code",
   "execution_count": 31,
   "metadata": {
    "execution": {
     "iopub.execute_input": "2021-12-28T16:25:09.833099Z",
     "iopub.status.busy": "2021-12-28T16:25:09.832710Z",
     "iopub.status.idle": "2021-12-28T16:25:11.025579Z",
     "shell.execute_reply": "2021-12-28T16:25:11.024614Z",
     "shell.execute_reply.started": "2021-12-28T16:25:09.833033Z"
    }
   },
   "outputs": [],
   "source": [
    "y_tokenizer = Tokenizer()   \n",
    "y_tokenizer.fit_on_texts(list(y_tr))"
   ]
  },
  {
   "cell_type": "code",
   "execution_count": 32,
   "metadata": {
    "execution": {
     "iopub.execute_input": "2021-12-28T16:25:11.027991Z",
     "iopub.status.busy": "2021-12-28T16:25:11.027635Z",
     "iopub.status.idle": "2021-12-28T16:25:11.060491Z",
     "shell.execute_reply": "2021-12-28T16:25:11.059493Z",
     "shell.execute_reply.started": "2021-12-28T16:25:11.027927Z"
    }
   },
   "outputs": [
    {
     "name": "stdout",
     "output_type": "stream",
     "text": [
      "% of rare words in vocabulary: 72.02376586224602\n",
      "Total Coverage of rare words: 6.240878534047925\n"
     ]
    }
   ],
   "source": [
    "thresh=6\n",
    "\n",
    "cnt=0\n",
    "tot_cnt=0\n",
    "freq=0\n",
    "tot_freq=0\n",
    "\n",
    "for key,value in y_tokenizer.word_counts.items():\n",
    "    tot_cnt=tot_cnt+1\n",
    "    tot_freq=tot_freq+value\n",
    "    if(value<thresh):\n",
    "        cnt=cnt+1\n",
    "        freq=freq+value\n",
    "    \n",
    "print(\"% of rare words in vocabulary:\",(cnt/tot_cnt)*100)\n",
    "print(\"Total Coverage of rare words:\",(freq/tot_freq)*100)"
   ]
  },
  {
   "cell_type": "code",
   "execution_count": 33,
   "metadata": {
    "execution": {
     "iopub.execute_input": "2021-12-28T16:25:11.575119Z",
     "iopub.status.busy": "2021-12-28T16:25:11.574783Z",
     "iopub.status.idle": "2021-12-28T16:25:14.726916Z",
     "shell.execute_reply": "2021-12-28T16:25:14.726051Z",
     "shell.execute_reply.started": "2021-12-28T16:25:11.575055Z"
    }
   },
   "outputs": [
    {
     "name": "stdout",
     "output_type": "stream",
     "text": [
      "Size of vocabulary in Y = 7629\n"
     ]
    }
   ],
   "source": [
    "y_tokenizer = Tokenizer(num_words=tot_cnt-cnt) \n",
    "y_tokenizer.fit_on_texts(list(y_tr))\n",
    "\n",
    "y_tr_seq    =   y_tokenizer.texts_to_sequences(y_tr) \n",
    "y_val_seq   =   y_tokenizer.texts_to_sequences(y_val)\n",
    "y_test_seq   =   y_tokenizer.texts_to_sequences(y_test) \n",
    "\n",
    "y_tr    =   pad_sequences(y_tr_seq, maxlen=max_summary_len, padding='post')\n",
    "y_val   =   pad_sequences(y_val_seq, maxlen=max_summary_len, padding='post')\n",
    "y_test   =   pad_sequences(y_test_seq, maxlen=max_summary_len, padding='post')\n",
    "\n",
    "y_voc  =   y_tokenizer.num_words +1\n",
    "print(\"Size of vocabulary in Y = {}\".format(y_voc))"
   ]
  },
  {
   "cell_type": "code",
   "execution_count": 34,
   "metadata": {
    "execution": {
     "iopub.execute_input": "2021-12-28T16:25:16.795829Z",
     "iopub.status.busy": "2021-12-28T16:25:16.795453Z",
     "iopub.status.idle": "2021-12-28T16:25:19.992373Z",
     "shell.execute_reply": "2021-12-28T16:25:19.991304Z",
     "shell.execute_reply.started": "2021-12-28T16:25:16.795746Z"
    }
   },
   "outputs": [],
   "source": [
    "ind=[]\n",
    "for i in range(len(y_tr)):\n",
    "    cnt=0\n",
    "    for j in y_tr[i]:\n",
    "        if j!=0:\n",
    "            cnt=cnt+1\n",
    "    if(cnt==2):\n",
    "        ind.append(i)\n",
    "\n",
    "y_tr=np.delete(y_tr,ind, axis=0)\n",
    "x_tr=np.delete(x_tr,ind, axis=0)"
   ]
  },
  {
   "cell_type": "code",
   "execution_count": 35,
   "metadata": {
    "execution": {
     "iopub.execute_input": "2021-12-28T16:25:19.997372Z",
     "iopub.status.busy": "2021-12-28T16:25:19.994921Z",
     "iopub.status.idle": "2021-12-28T16:25:20.369488Z",
     "shell.execute_reply": "2021-12-28T16:25:20.368652Z",
     "shell.execute_reply.started": "2021-12-28T16:25:19.995216Z"
    }
   },
   "outputs": [],
   "source": [
    "ind=[]\n",
    "for i in range(len(y_val)):\n",
    "    cnt=0\n",
    "    for j in y_val[i]:\n",
    "        if j!=0:\n",
    "            cnt=cnt+1\n",
    "    if(cnt==2):\n",
    "        ind.append(i)\n",
    "\n",
    "y_val=np.delete(y_val,ind, axis=0)\n",
    "x_val=np.delete(x_val,ind, axis=0)"
   ]
  },
  {
   "cell_type": "code",
   "execution_count": 36,
   "metadata": {
    "execution": {
     "iopub.execute_input": "2021-12-28T16:25:22.234866Z",
     "iopub.status.busy": "2021-12-28T16:25:22.234478Z",
     "iopub.status.idle": "2021-12-28T16:25:26.102539Z",
     "shell.execute_reply": "2021-12-28T16:25:26.101470Z",
     "shell.execute_reply.started": "2021-12-28T16:25:22.234786Z"
    }
   },
   "outputs": [
    {
     "name": "stdout",
     "output_type": "stream",
     "text": [
      "Size of vocabulary from the w2v model = 25545\n",
      "Model: \"model\"\n",
      "__________________________________________________________________________________________________\n",
      "Layer (type)                    Output Shape         Param #     Connected to                     \n",
      "==================================================================================================\n",
      "input_1 (InputLayer)            [(None, 100)]        0                                            \n",
      "__________________________________________________________________________________________________\n",
      "embedding (Embedding)           (None, 100, 200)     5109000     input_1[0][0]                    \n",
      "__________________________________________________________________________________________________\n",
      "lstm (LSTM)                     [(None, 100, 300), ( 601200      embedding[0][0]                  \n",
      "__________________________________________________________________________________________________\n",
      "lstm_1 (LSTM)                   [(None, 100, 300), ( 721200      lstm[0][0]                       \n",
      "__________________________________________________________________________________________________\n",
      "input_2 (InputLayer)            [(None, None)]       0                                            \n",
      "__________________________________________________________________________________________________\n",
      "lstm_2 (LSTM)                   [(None, 100, 300), ( 721200      lstm_1[0][0]                     \n",
      "                                                                 lstm_2[0][0]                     \n",
      "__________________________________________________________________________________________________\n",
      "embedding_1 (Embedding)         (None, None, 200)    1525800     input_2[0][0]                    \n",
      "__________________________________________________________________________________________________\n",
      "lstm_4 (LSTM)                   [(None, None, 300),  601200      embedding_1[0][0]                \n",
      "                                                                 lstm_2[1][1]                     \n",
      "                                                                 lstm_2[1][2]                     \n",
      "__________________________________________________________________________________________________\n",
      "time_distributed (TimeDistribut (None, None, 7629)   2296329     lstm_4[0][0]                     \n",
      "==================================================================================================\n",
      "Total params: 11,575,929\n",
      "Trainable params: 11,575,929\n",
      "Non-trainable params: 0\n",
      "__________________________________________________________________________________________________\n"
     ]
    }
   ],
   "source": [
    "from keras import backend as K \n",
    "import gensim\n",
    "from numpy import *\n",
    "import numpy as np\n",
    "import pandas as pd \n",
    "import re\n",
    "from bs4 import BeautifulSoup\n",
    "from keras.preprocessing.text import Tokenizer \n",
    "from keras.preprocessing.sequence import pad_sequences\n",
    "from nltk.corpus import stopwords\n",
    "from tensorflow.keras.layers import Input, LSTM, Embedding, Dense, Concatenate, TimeDistributed\n",
    "from tensorflow.keras.models import Model\n",
    "from tensorflow.keras.callbacks import EarlyStopping\n",
    "import warnings\n",
    "pd.set_option(\"display.max_colwidth\", 200)\n",
    "warnings.filterwarnings(\"ignore\")\n",
    "\n",
    "print(\"Size of vocabulary from the w2v model = {}\".format(x_voc))\n",
    "\n",
    "K.clear_session()\n",
    "\n",
    "latent_dim = 300\n",
    "embedding_dim=200\n",
    "\n",
    "# Encoder\n",
    "encoder_inputs = Input(shape=(max_text_len,))\n",
    "\n",
    "#embedding layer\n",
    "enc_emb =  Embedding(x_voc, embedding_dim,trainable=True)(encoder_inputs)\n",
    "\n",
    "#encoder lstm 1\n",
    "encoder_lstm1 = LSTM(latent_dim,return_sequences=True,return_state=True,dropout=0.4,recurrent_dropout=0.4)\n",
    "encoder_output1, state_h1, state_c1 = encoder_lstm1(enc_emb)\n",
    "\n",
    "#encoder lstm 2\n",
    "encoder_lstm2 = LSTM(latent_dim,return_sequences=True,return_state=True,dropout=0.4,recurrent_dropout=0.4)\n",
    "encoder_output2, state_h2, state_c2 = encoder_lstm2(encoder_output1)\n",
    "\n",
    "#encoder lstm 3\n",
    "encoder_lstm3=LSTM(latent_dim, return_state=True, return_sequences=True,dropout=0.4,recurrent_dropout=0.4)\n",
    "encoder_output3, state_h3, state_c3= encoder_lstm3(encoder_output2)\n",
    "\n",
    "#encoder lstm 4\n",
    "encoder_lstm4=LSTM(latent_dim, return_state=True, return_sequences=True,dropout=0.4,recurrent_dropout=0.4)\n",
    "encoder_outputs, state_h, state_c= encoder_lstm3(encoder_output3)\n",
    "\n",
    "\n",
    "decoder_inputs = Input(shape=(None,))\n",
    "\n",
    "#embedding layer\n",
    "dec_emb_layer = Embedding(y_voc, embedding_dim,trainable=True)\n",
    "dec_emb = dec_emb_layer(decoder_inputs)\n",
    "\n",
    "decoder_lstm = LSTM(latent_dim, return_sequences=True, return_state=True,dropout=0.4,recurrent_dropout=0.2)\n",
    "decoder_outputs,decoder_fwd_state, decoder_back_state = decoder_lstm(dec_emb,initial_state=[state_h, state_c])\n",
    "\n",
    "#dense layer\n",
    "decoder_dense =  TimeDistributed(Dense(y_voc, activation='softmax'))\n",
    "decoder_outputs = decoder_dense(decoder_outputs)\n",
    "\n",
    "# Define the model \n",
    "model = Model([encoder_inputs, decoder_inputs], decoder_outputs)\n",
    "\n",
    "model.summary()\n"
   ]
  },
  {
   "cell_type": "code",
   "execution_count": 37,
   "metadata": {
    "execution": {
     "iopub.execute_input": "2021-12-28T16:25:26.104901Z",
     "iopub.status.busy": "2021-12-28T16:25:26.104550Z",
     "iopub.status.idle": "2021-12-28T16:25:26.182680Z",
     "shell.execute_reply": "2021-12-28T16:25:26.181648Z",
     "shell.execute_reply.started": "2021-12-28T16:25:26.104841Z"
    }
   },
   "outputs": [],
   "source": [
    "model.compile(optimizer='rmsprop', loss='sparse_categorical_crossentropy')\n"
   ]
  },
  {
   "cell_type": "code",
   "execution_count": 38,
   "metadata": {
    "execution": {
     "iopub.execute_input": "2021-12-28T16:25:27.650724Z",
     "iopub.status.busy": "2021-12-28T16:25:27.650326Z",
     "iopub.status.idle": "2021-12-28T16:25:27.656878Z",
     "shell.execute_reply": "2021-12-28T16:25:27.655448Z",
     "shell.execute_reply.started": "2021-12-28T16:25:27.650649Z"
    }
   },
   "outputs": [],
   "source": [
    "es = EarlyStopping(monitor='val_loss', mode='min', verbose=1,patience=2)\n"
   ]
  },
  {
   "cell_type": "code",
   "execution_count": 39,
   "metadata": {
    "execution": {
     "iopub.execute_input": "2021-12-28T16:25:30.312725Z",
     "iopub.status.busy": "2021-12-28T16:25:30.312347Z",
     "iopub.status.idle": "2021-12-28T16:33:41.872407Z",
     "shell.execute_reply": "2021-12-28T16:33:41.871166Z",
     "shell.execute_reply.started": "2021-12-28T16:25:30.312658Z"
    }
   },
   "outputs": [
    {
     "name": "stdout",
     "output_type": "stream",
     "text": [
      "Train on 44633 samples, validate on 5511 samples\n",
      "Epoch 1/100\n",
      "44633/44633 [==============================] - 82s 2ms/sample - loss: 3.7998 - val_loss: 3.1993\n",
      "Epoch 2/100\n",
      "44633/44633 [==============================] - 70s 2ms/sample - loss: 3.1582 - val_loss: 3.0601\n",
      "Epoch 3/100\n",
      "44633/44633 [==============================] - 70s 2ms/sample - loss: 3.0552 - val_loss: 2.9901\n",
      "Epoch 4/100\n",
      "44633/44633 [==============================] - 70s 2ms/sample - loss: 2.9815 - val_loss: 2.9244\n",
      "Epoch 5/100\n",
      "44633/44633 [==============================] - 70s 2ms/sample - loss: 2.9104 - val_loss: 2.8645\n",
      "Epoch 6/100\n",
      "44633/44633 [==============================] - 71s 2ms/sample - loss: 2.8457 - val_loss: 2.8162\n",
      "Epoch 7/100\n",
      "44633/44633 [==============================] - 70s 2ms/sample - loss: 2.7828 - val_loss: 2.7696\n",
      "Epoch 8/100\n",
      "44633/44633 [==============================] - 70s 2ms/sample - loss: 2.7253 - val_loss: 2.7222\n",
      "Epoch 9/100\n",
      "44633/44633 [==============================] - 70s 2ms/sample - loss: 2.6717 - val_loss: 2.6865\n",
      "Epoch 10/100\n",
      "44633/44633 [==============================] - 70s 2ms/sample - loss: 2.6197 - val_loss: 2.6507\n",
      "Epoch 11/100\n",
      "44633/44633 [==============================] - 70s 2ms/sample - loss: 2.5679 - val_loss: 2.6186\n",
      "Epoch 12/100\n",
      "44633/44633 [==============================] - 71s 2ms/sample - loss: 2.5196 - val_loss: 2.5811\n",
      "Epoch 13/100\n",
      "44633/44633 [==============================] - 70s 2ms/sample - loss: 2.4741 - val_loss: 2.5575\n",
      "Epoch 14/100\n",
      "44633/44633 [==============================] - 70s 2ms/sample - loss: 2.4330 - val_loss: 2.5375\n",
      "Epoch 15/100\n",
      "44633/44633 [==============================] - 70s 2ms/sample - loss: 2.3941 - val_loss: 2.5087\n",
      "Epoch 16/100\n",
      "44633/44633 [==============================] - 70s 2ms/sample - loss: 2.3566 - val_loss: 2.4851\n",
      "Epoch 17/100\n",
      "44633/44633 [==============================] - 70s 2ms/sample - loss: 2.3217 - val_loss: 2.4810\n",
      "Epoch 18/100\n",
      "44633/44633 [==============================] - 70s 2ms/sample - loss: 2.2897 - val_loss: 2.4582\n",
      "Epoch 19/100\n",
      "44633/44633 [==============================] - 70s 2ms/sample - loss: 2.2583 - val_loss: 2.4422\n",
      "Epoch 20/100\n",
      "44633/44633 [==============================] - 71s 2ms/sample - loss: 2.2278 - val_loss: 2.4272\n",
      "Epoch 21/100\n",
      "44633/44633 [==============================] - 70s 2ms/sample - loss: 2.1994 - val_loss: 2.4143\n",
      "Epoch 22/100\n",
      "44633/44633 [==============================] - 70s 2ms/sample - loss: 2.1710 - val_loss: 2.4022\n",
      "Epoch 23/100\n",
      "44633/44633 [==============================] - 70s 2ms/sample - loss: 2.1434 - val_loss: 2.3859\n",
      "Epoch 24/100\n",
      "44633/44633 [==============================] - 70s 2ms/sample - loss: 2.1174 - val_loss: 2.3786\n",
      "Epoch 25/100\n",
      "44633/44633 [==============================] - 70s 2ms/sample - loss: 2.0926 - val_loss: 2.3712\n",
      "Epoch 26/100\n",
      "44633/44633 [==============================] - 70s 2ms/sample - loss: 2.0696 - val_loss: 2.3669\n",
      "Epoch 27/100\n",
      "44633/44633 [==============================] - 70s 2ms/sample - loss: 2.0460 - val_loss: 2.3578\n",
      "Epoch 28/100\n",
      "44633/44633 [==============================] - 70s 2ms/sample - loss: 2.0245 - val_loss: 2.3476\n",
      "Epoch 29/100\n",
      "44633/44633 [==============================] - 70s 2ms/sample - loss: 2.0031 - val_loss: 2.3417\n",
      "Epoch 30/100\n",
      "44633/44633 [==============================] - 70s 2ms/sample - loss: 1.9832 - val_loss: 2.3419\n",
      "Epoch 31/100\n",
      "44633/44633 [==============================] - 71s 2ms/sample - loss: 1.9630 - val_loss: 2.3369\n",
      "Epoch 32/100\n",
      "44633/44633 [==============================] - 70s 2ms/sample - loss: 1.9444 - val_loss: 2.3302\n",
      "Epoch 33/100\n",
      "44633/44633 [==============================] - 70s 2ms/sample - loss: 1.9258 - val_loss: 2.3274\n",
      "Epoch 34/100\n",
      "44633/44633 [==============================] - 70s 2ms/sample - loss: 1.9086 - val_loss: 2.3257\n",
      "Epoch 35/100\n",
      "44633/44633 [==============================] - 70s 2ms/sample - loss: 1.8915 - val_loss: 2.3227\n",
      "Epoch 36/100\n",
      "44633/44633 [==============================] - 70s 2ms/sample - loss: 1.8738 - val_loss: 2.3220\n",
      "Epoch 37/100\n",
      "44633/44633 [==============================] - 70s 2ms/sample - loss: 1.8574 - val_loss: 2.3208\n",
      "Epoch 38/100\n",
      "44633/44633 [==============================] - 70s 2ms/sample - loss: 1.8429 - val_loss: 2.3211\n",
      "Epoch 39/100\n",
      "44633/44633 [==============================] - 71s 2ms/sample - loss: 1.8266 - val_loss: 2.3202\n",
      "Epoch 40/100\n",
      "44633/44633 [==============================] - 70s 2ms/sample - loss: 1.8117 - val_loss: 2.3219\n",
      "Epoch 41/100\n",
      "44633/44633 [==============================] - 71s 2ms/sample - loss: 1.7966 - val_loss: 2.3193\n",
      "Epoch 42/100\n",
      "44633/44633 [==============================] - 70s 2ms/sample - loss: 1.7824 - val_loss: 2.3161\n",
      "Epoch 43/100\n",
      "44633/44633 [==============================] - 70s 2ms/sample - loss: 1.7689 - val_loss: 2.3136\n",
      "Epoch 44/100\n",
      "44633/44633 [==============================] - 71s 2ms/sample - loss: 1.7552 - val_loss: 2.3164\n",
      "Epoch 45/100\n",
      "44633/44633 [==============================] - 71s 2ms/sample - loss: 1.7424 - val_loss: 2.3149\n",
      "Epoch 00045: early stopping\n"
     ]
    }
   ],
   "source": [
    "history=model.fit([x_tr,y_tr[:,:-1]], y_tr.reshape(y_tr.shape[0],y_tr.shape[1], 1)[:,1:] ,epochs=100 ,callbacks=[es],batch_size=512, validation_data=([x_val,y_val[:,:-1]], y_val.reshape(y_val.shape[0],y_val.shape[1], 1)[:,1:]))\n"
   ]
  },
  {
   "cell_type": "code",
   "execution_count": 40,
   "metadata": {},
   "outputs": [],
   "source": [
    "model.save(\"nlp_100_weights.h5py\")"
   ]
  },
  {
   "cell_type": "code",
   "execution_count": 41,
   "metadata": {
    "execution": {
     "iopub.execute_input": "2021-12-28T16:33:44.704174Z",
     "iopub.status.busy": "2021-12-28T16:33:44.703813Z",
     "iopub.status.idle": "2021-12-28T16:33:44.915494Z",
     "shell.execute_reply": "2021-12-28T16:33:44.914414Z",
     "shell.execute_reply.started": "2021-12-28T16:33:44.704112Z"
    }
   },
   "outputs": [
    {
     "data": {
      "image/png": "[encoded data removed]",
      "text/plain": [
       "<Figure size 432x288 with 1 Axes>"
      ]
     },
     "metadata": {
      "needs_background": "light"
     },
     "output_type": "display_data"
    }
   ],
   "source": [
    "from matplotlib import pyplot\n",
    "pyplot.plot(history.history['loss'], label='train')\n",
    "pyplot.plot(history.history['val_loss'], label='test')\n",
    "pyplot.legend()\n",
    "pyplot.show()"
   ]
  },
  {
   "cell_type": "markdown",
   "metadata": {},
   "source": [
    "**Next, let’s build the dictionary to convert the index to word for target and source vocabulary:**"
   ]
  },
  {
   "cell_type": "code",
   "execution_count": 42,
   "metadata": {
    "execution": {
     "iopub.execute_input": "2021-12-28T16:33:47.571256Z",
     "iopub.status.busy": "2021-12-28T16:33:47.570944Z",
     "iopub.status.idle": "2021-12-28T16:33:47.577112Z",
     "shell.execute_reply": "2021-12-28T16:33:47.575500Z",
     "shell.execute_reply.started": "2021-12-28T16:33:47.571198Z"
    }
   },
   "outputs": [],
   "source": [
    "reverse_target_word_index=y_tokenizer.index_word\n",
    "reverse_source_word_index=x_tokenizer.index_word\n",
    "target_word_index=y_tokenizer.word_index"
   ]
  },
  {
   "cell_type": "code",
   "execution_count": 43,
   "metadata": {
    "execution": {
     "iopub.execute_input": "2021-12-28T16:33:48.084476Z",
     "iopub.status.busy": "2021-12-28T16:33:48.084083Z",
     "iopub.status.idle": "2021-12-28T16:33:48.469515Z",
     "shell.execute_reply": "2021-12-28T16:33:48.468631Z",
     "shell.execute_reply.started": "2021-12-28T16:33:48.084407Z"
    }
   },
   "outputs": [],
   "source": [
    "encoder_model = Model(inputs=encoder_inputs,outputs=[encoder_outputs, state_h, state_c])\n",
    "\n",
    "decoder_state_input_h = Input(shape=(latent_dim,))\n",
    "decoder_state_input_c = Input(shape=(latent_dim,))\n",
    "decoder_hidden_state_input = Input(shape=(max_text_len,latent_dim))\n",
    "\n",
    "dec_emb2= dec_emb_layer(decoder_inputs) \n",
    "decoder_outputs2, state_h2, state_c2 = decoder_lstm(dec_emb2, initial_state=[decoder_state_input_h, decoder_state_input_c])\n",
    "\n",
    "decoder_outputs2 = decoder_dense(decoder_outputs2) \n",
    "\n",
    "decoder_model = Model(\n",
    "    [decoder_inputs] + [decoder_hidden_state_input,decoder_state_input_h, decoder_state_input_c],\n",
    "    [decoder_outputs2] + [state_h2, state_c2])"
   ]
  },
  {
   "cell_type": "markdown",
   "metadata": {},
   "source": [
    "**We are defining a function below which is the implementation of the inference process**"
   ]
  },
  {
   "cell_type": "code",
   "execution_count": 44,
   "metadata": {
    "execution": {
     "iopub.execute_input": "2021-12-28T16:33:50.235795Z",
     "iopub.status.busy": "2021-12-28T16:33:50.235446Z",
     "iopub.status.idle": "2021-12-28T16:33:50.246616Z",
     "shell.execute_reply": "2021-12-28T16:33:50.245145Z",
     "shell.execute_reply.started": "2021-12-28T16:33:50.235736Z"
    }
   },
   "outputs": [],
   "source": [
    "def decode_sequence(input_seq):\n",
    "    e_out, e_h, e_c = encoder_model.predict(input_seq)\n",
    "    \n",
    "    target_seq = np.zeros((1,1))\n",
    "    \n",
    "    target_seq[0, 0] = target_word_index['sostok']\n",
    "\n",
    "    stop_condition = False\n",
    "    decoded_sentence = ''\n",
    "    while not stop_condition:\n",
    "      \n",
    "        output_tokens, h, c = decoder_model.predict([target_seq] + [e_out, e_h, e_c])\n",
    "\n",
    "        sampled_token_index = np.argmax(output_tokens[0, -1, :])\n",
    "        sampled_token = reverse_target_word_index[sampled_token_index]\n",
    "        \n",
    "        if(sampled_token!='eostok'):\n",
    "            decoded_sentence += ' '+sampled_token\n",
    "\n",
    "        if (sampled_token == 'eostok'  or len(decoded_sentence.split()) >= (max_summary_len-1)):\n",
    "            stop_condition = True\n",
    "\n",
    "        target_seq = np.zeros((1,1))\n",
    "        target_seq[0, 0] = sampled_token_index\n",
    "\n",
    "        e_h, e_c = h, c\n",
    "\n",
    "    return decoded_sentence"
   ]
  },
  {
   "cell_type": "markdown",
   "metadata": {},
   "source": [
    "**Let us define the functions to convert an integer sequence to a word sequence for summary as well as the reviews:**\n"
   ]
  },
  {
   "cell_type": "code",
   "execution_count": 45,
   "metadata": {
    "execution": {
     "iopub.execute_input": "2021-12-28T16:33:51.270427Z",
     "iopub.status.busy": "2021-12-28T16:33:51.270031Z",
     "iopub.status.idle": "2021-12-28T16:33:51.278336Z",
     "shell.execute_reply": "2021-12-28T16:33:51.276998Z",
     "shell.execute_reply.started": "2021-12-28T16:33:51.270361Z"
    }
   },
   "outputs": [],
   "source": [
    "def seq2summary(input_seq):\n",
    "    newString=''\n",
    "    for i in input_seq:\n",
    "        if((i!=0 and i!=target_word_index['sostok']) and i!=target_word_index['eostok']):\n",
    "            newString=newString+reverse_target_word_index[i]+' '\n",
    "    return newString\n",
    "\n",
    "def seq2text(input_seq):\n",
    "    newString=''\n",
    "    for i in input_seq:\n",
    "        if(i!=0):\n",
    "            newString=newString+reverse_source_word_index[i]+' '\n",
    "    return newString"
   ]
  },
  {
   "cell_type": "markdown",
   "metadata": {},
   "source": [
    "**Run the model over the data to see the results**"
   ]
  },
  {
   "cell_type": "code",
   "execution_count": 46,
   "metadata": {
    "execution": {
     "iopub.execute_input": "2021-12-28T16:33:54.330384Z",
     "iopub.status.busy": "2021-12-28T16:33:54.329967Z",
     "iopub.status.idle": "2021-12-28T16:34:11.606278Z",
     "shell.execute_reply": "2021-12-28T16:34:11.604653Z",
     "shell.execute_reply.started": "2021-12-28T16:33:54.330288Z"
    }
   },
   "outputs": [
    {
     "name": "stdout",
     "output_type": "stream",
     "text": [
      "0\n",
      "Review: a new poster of the emma watson starrer upcoming romantic fantasy musical film 39 beauty and the beast 39 has been released the film is live action adaptation of disney 39 animated classic directed by bill condon the film also stars dan stevens as 39 the beast 39 and is scheduled to release on march 17 2017 \n",
      "Original summary: start new poster of emma watson 39 39 beauty and the beast 39 out end \n",
      "Predicted summary:  start new trailer of 39 39 released end\n",
      "\n",
      "\n",
      "1\n",
      "Review: according to report by american organisation politico companies like amazon and google made donations to us president donald trump 39 inauguration with microsoft contributing ₹1 6 crore 250 000 in cash microsoft is now part of the legal brief filed by nearly 100 companies to support an ongoing lawsuit against trump 39 immigration ban tesla and facebook are also part of the brief \n",
      "Original summary: start microsoft ₹1 6 crore to trump inauguration report end \n",
      "Predicted summary:  start google search for 39 39 in us end\n",
      "\n",
      "\n",
      "2\n",
      "Review: in the light of the punjab assembly elections due next year delhi chief minister arvind kejriwal is learning to speak in punjabi “this will help our party in running the government if we get to power in the state 34 kejriwal said he added that he has been two hours every morning to learn punjabi for the last two months \n",
      "Original summary: start kejriwal punjabi ahead of punjab polls end \n",
      "Predicted summary:  start ec asks ec to make 39 39 39 in punjab end\n",
      "\n",
      "\n",
      "3\n",
      "Review: any bank branch that refuses to exchange or currency notes from people will have to pay penalty of ₹10 000 the rbi has clarified however bank may levy service charge if person exchanges more than 20 notes or notes worth ₹5 000 per day the rbi also clarified that such notes continue to be legal tender \n",
      "Original summary: start banks refusing to exchange notes to be fined ₹10 000 end \n",
      "Predicted summary:  start rbi to give ₹1 000 cr for deposits end\n",
      "\n",
      "\n",
      "4\n",
      "Review: actress vaani kapoor has featured on the december cover of 39 vogue india 39 she wore floral print sequinned dress by burberry along with jewellery by the 28 year old actress who will be seen opposite ranveer singh in the upcoming film 39 befikre 39 has featured in the cover story titled 39 vaani kapoor expect the unexpected 39 n \n",
      "Original summary: start vaani kapoor features on dec cover of vogue india end \n",
      "Predicted summary:  start ranveer singh features on cover of 39 harper 39 bazaar bride 39 end\n",
      "\n",
      "\n",
      "5\n",
      "Review: the union cabinet on wednesday approved new power tariff policy that will promote clean energy and enable better regulations for power distribution companies it will also support the swachh bharat abhiyan under which power plants will use processed municipal waste water available in their area the policy also aims to encourage faster roll out of investments in the sector \n",
      "Original summary: start union cabinet approves new power tariff policy end \n",
      "Predicted summary:  start govt to set up jv to raise funds end\n",
      "\n",
      "\n",
      "6\n",
      "Review: censor board chief pahlaj nihalani has said that the sunny deol starrer film 39 mohalla 39 has been denied certification by the board 34 the film has now gone to the film certification appellate tribunal 34 nihalani added notably this comes after the delhi high court sought response from the censor board after it denied certificate for public screening of the film n n n \n",
      "Original summary: start censor board has denied certificate to mohalla pahlaj end \n",
      "Predicted summary:  start 39 dangal 39 to release on september 29 end\n",
      "\n",
      "\n",
      "7\n",
      "Review: ali khan pataudi is the only player to have played cricket for both india and england pataudi scored century on his debut for england during the 1932 33 tour of australia in 1936 he was named the captain of india but his first appearance for the indian side came after 10 years in 1946 against his former team england \n",
      "Original summary: start is the only cricketer to play for india and england end \n",
      "Predicted summary:  start australia 39 first ever test was played on this day end\n",
      "\n",
      "\n",
      "8\n",
      "Review: one person has been arrested in connection with putting fake ₹2 000 notes in an sbi atm in delhi mohammad isha was an employee of the company responsible for filling up cash in the atm reports stated notably the atm dispensed fake notes with 39 churan lable 39 strip and read 39 children 39 bank of india 39 or 39 bharatiya bank 39 in place of rbi \n",
      "Original summary: start man who put fake 39 churan 39 ₹2 000 notes in atm arrested end \n",
      "Predicted summary:  start man who is the only player to score end\n",
      "\n",
      "\n",
      "9\n",
      "Review: the euro zone bailout fund on tuesday released fresh 3 billion about ₹20 000 crore loan to greece officials said reportedly 1 2 billion of the funds will be used for debt servicing while the rest will be used to clear arrears the euro zone has so far disbursed 188 7 billion around ₹12 6 lakh crore in three bailout funds to greece \n",
      "Original summary: start euro zone releases another 3 billion loan to greece end \n",
      "Predicted summary:  start oil prices drop to lowest since dec dec end\n",
      "\n",
      "\n",
      "10\n",
      "Review: indian skipper virat kohli has said he will only play the dharamsala test starting saturday if he is 34 100 fit 34 kohli who suffered shoulder injury in ranchi said 34 have not done anything in the series so far still team won am no different from anyone being 100 fit is the only condition that will take the field 34 \n",
      "Original summary: start team did without me will play if 100 fit virat kohli end \n",
      "Predicted summary:  start kohli 39 is the most important in the world t20 end\n",
      "\n",
      "\n",
      "11\n",
      "Review: singer selena gomez visited children 39 hospital in her hometown texas on christmas eve to spend time with them she also helped the kids decorate cookies to mark the occasion describing gomez 39 visit to the hospital source said 34 there were some tears so it was pretty emotional for some patients 34 \n",
      "Original summary: start selena gomez visits children 39 hospital on christmas eve end \n",
      "Predicted summary:  start singer passes away end\n",
      "\n",
      "\n",
      "12\n",
      "Review: us company has developed drone defending gun 39 39 that produces an invisible beam to halt and bring down flying drones the gun uses radio control frequency disruption that stops drone from flying by keeping it unhurt the gun can operate five hours in single charge and has range of 400 meters \n",
      "Original summary: start us company creates drone defending gun end \n",
      "Predicted summary:  start scientists find new type of human end\n",
      "\n",
      "\n",
      "13\n",
      "Review: 39 jason bourne 39 the fifth installment of the 39 bourne 39 franchise 34 does not really break new ground with plot action 34 wrote india today 34 matt damon is back but the is missing 34 wrote indian express while hindustan times wrote that it 34 will likely impress fans of the long running series 34 it was rated 3 5 5 india today 1 5 indian express and 3 5 ht \n",
      "Original summary: start 39 jason bourne 39 hits the theatres end \n",
      "Predicted summary:  start 39 39 most searched on google today end\n",
      "\n",
      "\n",
      "14\n",
      "Review: according to report by bloomberg new energy finance the frankfurt school and the un environment program record breaking 286 billion was invested in renewable energy potential worldwide in 2015 this equals 134 gigawatts of renewable power compared to 87 gigawatts two years ago this investment was more than double the 130 billion that went toward coal and natural gas \n",
      "Original summary: start renewable energy saw bn investment in 2015 end \n",
      "Predicted summary:  start china 39 yuan falls to lowest since 2008 end\n",
      "\n",
      "\n",
      "15\n",
      "Review: actress anushka sharma has shared the official logo of her upcoming romantic comedy film 39 phillauri 39 34 trailer coming soon watch this space for more 34 she wrote while sharing the logo the film also stars actor diljit dosanjh directed by anshai lal the film is scheduled to release on march 24 \n",
      "Original summary: start anushka shares official logo of upcoming film 39 phillauri 39 end \n",
      "Predicted summary:  start srk to play villain in 39 39 reports end\n",
      "\n",
      "\n",
      "16\n",
      "Review: speaking about tamil nadu cm jayalalithaa bjp mp subramanian swamy on monday said she was able to fill the gap of her mentor ramachandran mgr and became bigger than him in one sense 34 she was far more intelligent had much more she is more feared mgr was generally loved never feared 34 he added n \n",
      "Original summary: start in one sense jayalalithaa became bigger than swamy end \n",
      "Predicted summary:  start pm modi wishes modi on his birthday end\n",
      "\n",
      "\n",
      "17\n",
      "Review: aditi agarwal self trained artist from jaipur rajasthan creates art on the broken feathers of birds her technique includes outlining the feather on paper and drawing rough sketch of the chosen design on it she has painted animals birds scenery as well as leonardo da vinci 39 painting lisa on feathers \n",
      "Original summary: start indian artist creates art on birds 39 end \n",
      "Predicted summary:  start why do we have been on end\n",
      "\n",
      "\n",
      "18\n",
      "Review: justice rm lodha lodha committee 39 chairman has clarified india 39 participation in the 2017 champions trophy won 39 be affected by the panel 39 recommendations 34 champions trophy remains unaffected because the schedule was prepared before we submitted our report 34 said lodha the recommendation calls for 15 day window between the ipl and the international calendar which isn 39 the case in 2017 \n",
      "Original summary: start champions trophy by lodha end \n",
      "Predicted summary:  start rajan 39 39 bank 39 to be held in india end\n",
      "\n",
      "\n",
      "19\n",
      "Review: american rapper kanye west cut short his latest concert to deliver 15 minute speech on politics and said 34 people feel like they lost because facebook and google lied to you 34 west was referring to the fake news on the platforms which reportedly impacted the us elections he even took facebook ceo mark zuckerberg 39 name while addressing the concern \n",
      "Original summary: start facebook google to you kanye west on fake news end \n",
      "Predicted summary:  start google 39 39 39 is 39 to be launched in end\n",
      "\n",
      "\n",
      "20\n",
      "Review: us based automaker ford has filed patent for head rest with built in secret compartment that can hide wrap around neck pillow the design of the features hidden door that allows it to split in two revealing the concealed pillow ford has noted that this feature will facilitate 39 39 and represent 39 significant advance in passenger comfort 39 \n",
      "Original summary: start ford files patent for head rest with secret travel end \n",
      "Predicted summary:  start startup makes portable robot to identify end\n",
      "\n",
      "\n",
      "21\n",
      "Review: calling the bjp 34 number one liar 34 samajwadi party chief mulayam singh yadav on wednesday said entire black money in the country was in possession of just hundred families and one of them was the pm 39 friend he also accused pm modi of misleading the nation on the issue and claimed demonetisation move was tactic to divert public attention n \n",
      "Original summary: start a friend of pm modi is hiding black money mulayam singh end \n",
      "Predicted summary:  start bjp releases list of candidates for punjab polls end\n",
      "\n",
      "\n",
      "22\n",
      "Review: indian cricketer yuvraj singh 39 father yograj singh has accused ms dhoni for his son 39 absence from the indian squad 34 yuvraj is in the team because dhoni is no longer the captain had said this couple of years ago that he would be back in the team once dhoni wasn 39 the captain 34 said yograj in recent interview \n",
      "Original summary: start yuvraj in team as dhoni is no longer captain singh end \n",
      "Predicted summary:  start sehwag wishes india on his birthday end\n",
      "\n",
      "\n",
      "23\n",
      "Review: senior bjp leader subramanian swamy on wednesday accused muslim bodies of 34 creating 34 in resolving the ram babri masjid dispute and said the 34 outer limit 34 to settle the issue is april 2018 34 all the muslim parties had yesterday said on tv that this out of court negotiation is all waste of time they are trying to delay it 34 he said \n",
      "Original summary: start muslim bodies ayodhya issue resolution swamy end \n",
      "Predicted summary:  start 39 39 khand cm rawat 39 to release cauvery water 39 end\n",
      "\n",
      "\n",
      "24\n",
      "Review: a hyderabad court has issued five more non bailable warrants against liquor baron vijay mallya in connection with cheque bounce and fraud case infrastructure company gmr had lodged complaint alleging that mallya had defaulted on payment and cheques issued by kingfisher airlines earlier the court had issued warrant and directed police to produce mallya on april 13 \n",
      "Original summary: start five more issued against mallya end \n",
      "Predicted summary:  start court rejects plea seeking ban on pil end\n",
      "\n",
      "\n",
      "25\n",
      "Review: chennai police on monday arrested two people for spreading rumours about tamil nadu cm jayalalithaa 39 health reports said the police have said it is crime to spread such false news and 43 cases have been filed for spreading rumours jayalalithaa was admitted to hospital on september 22 following which there have been rumours of her deteriorating health \n",
      "Original summary: start tn cm health police arrest for spreading rumours end \n",
      "Predicted summary:  start fir against ex husband over gang rape end\n",
      "\n",
      "\n",
      "26\n",
      "Review: the supreme court has favoured the provision of new maharashtra law prohibiting showering of money on bar dancers refusing to accept showering of notes on women dancers as tip the apex court said “this provision shows respect for women this decency and they are performers and there is certain dignity attached to them the court noted \n",
      "Original summary: start sc backs maha law against cash on dancers end \n",
      "Predicted summary:  start sc refuses to stay in delhi hc end\n",
      "\n",
      "\n",
      "27\n",
      "Review: according to national crime records bureau data rajasthan has had the most number of jailbreaks in the country in the past 15 years followed by madhya pradesh in the given period while rajasthan had 55 prison madhya pradesh had 28 however 2013 cag audit report stated that there were 91 incidents of jailbreaks in madhya pradesh from 2007 12 \n",
      "Original summary: start 39 rajasthan had most number of in last 15 yrs 39 end \n",
      "Predicted summary:  start 39 india 39 to be held in india 39 end\n",
      "\n",
      "\n",
      "28\n",
      "Review: a 32 year old from canada has been posting vacation pictures of herself with 34 you could be here 34 foam cut out of man after her date did not contact her before they were to take holiday jasmine the pictures which are on instagram are 34 dating advertisement 34 and way to show the man what he is 34 missing 34 \n",
      "Original summary: start woman holidays with man 39 cut out after he fails to turn up end \n",
      "Predicted summary:  start man dies after falling in delhi end\n",
      "\n",
      "\n",
      "29\n",
      "Review: india took their overall medals tally to 45 on day two of the south asian games winning 26 medals the second day saw the indians win ten medals in swimming five medals in wrestling four medals in weightlifting three in cycling and two each in table tennis and wushu sri lanka are second with 40 medals \n",
      "Original summary: start 26 medals for india on south asian games day 2 end \n",
      "Predicted summary:  start india 39 first asian team wins gold at asian championships end\n",
      "\n",
      "\n",
      "30\n",
      "Review: the fastest goal in olympic history was scored on the opening day of the rio olympics when scored 20 seconds into their game against australia in the women’s football match on wednesday moreover the fastest olympic red card was handed to in the 20th minute of the same match \n",
      "Original summary: start canada women 39 team scores fastest olympic goal end \n",
      "Predicted summary:  start messi 39 brace helps barcelona beat west ham end\n",
      "\n",
      "\n",
      "31\n",
      "Review: yangon city in myanmar recently hosted three day festival that celebrated 55 years of cultural relations between france and myanmar the festival brought together local and international street artists musicians and dancers it also featured parade of giant puppets including eight metre tall puppets from french cultural group \n",
      "Original summary: start myanmar hosts festival celebrating french myanmar relations end \n",
      "Predicted summary:  start 39 39 day celebrated on day of rio olympics end\n",
      "\n",
      "\n",
      "32\n",
      "Review: shiv sena has criticised delhi chief minister arvind kejriwal and congress leader sanjay nirupam for their remarks that raised questions on india 39 recent surgical strikes along the line of control in its mouthpiece 39 saamana 39 shiv sena said that such attempts affect the morale of the soldiers and added that the strikes were the best medicine for pakistan \n",
      "Original summary: start shiv sena slams kejriwal over surgical strikes comment end \n",
      "Predicted summary:  start bjp slams rahul over 39 39 in punjab end\n",
      "\n",
      "\n",
      "33\n",
      "Review: the trailer for the tiger shroff and jacqueline fernandez starrer superhero film 39 flying jatt 39 was released on monday the film stars tiger as 34 reluctant superhero 34 the film also stars amrita singh kay kay menon and professional wrestler nathan jones as the main villain directed by remo 39 souza the film is scheduled to release on august 25 \n",
      "Original summary: start trailer for tiger starrer flying jatt released end \n",
      "Predicted summary:  start trailer of 39 39 released end\n",
      "\n",
      "\n",
      "34\n",
      "Review: actress jacqueline fernandez revealed the look for her role in the upcoming movie on monday the 30 year old actress plays character named 39 39 in the action adventure film directed by rohit dhawan the film also stars john abraham and varun dhawan playing the role of cops and is scheduled to release on july 29 \n",
      "Original summary: start first look of jacqueline from revealed end \n",
      "Predicted summary:  start 39 39 song from 39 sultan 39 released end\n",
      "\n",
      "\n",
      "35\n",
      "Review: militants in kashmir have pledged their allegiance to the islamic state isis according to hafiz saeed khan the head of is 39 khorasan operations the militant group aspires to expand its control to the khorasan region which historically includes afghanistan iran pakistan turkmenistan to india and china khan was tehreek e taliban pakistan commander before he joined the islamic state \n",
      "Original summary: start kashmir militants to us isis end \n",
      "Predicted summary:  start nia arrests suspected isis in amp k end\n",
      "\n",
      "\n",
      "36\n",
      "Review: actor hrithik roshan has said that it is not about working in hollywood but always about good script for him he also revealed that he has received hollywood projects but has not liked anything yet hrithik was recently ranked fifth in the list of 39 top 10 most handsome men in the world 39 by an online portal \n",
      "Original summary: start it 39 not about hollywood but good script hrithik end \n",
      "Predicted summary:  start i 39 ll be to be the next year khan end\n",
      "\n",
      "\n",
      "37\n",
      "Review: a three minute video explains how smoke is caused by small particles floating in the air and how pollution affects the human body detailing the standard measurements to analyse pollution the video adds that air pollution is linked to health problems like heart disease stroke and autism it further explains how particles can get into the lungs and cause serious damage \n",
      "Original summary: start video explains effects of pollution on human body end \n",
      "Predicted summary:  start video explains why we can 39 be end\n",
      "\n",
      "\n",
      "38\n",
      "Review: the income tax department has activated aadhaar and net banking based e filing verification system for taxpayers to file the first appeal before tax officer similar to the online filing of income tax returns under this the electronic verification code to validate the appeal forms would be generated using the aadhaar database or the net banking identity of the \n",
      "Original summary: start govt aadhaar based it appeal e filing end \n",
      "Predicted summary:  start govt to give ₹1 000 cr to banks end\n",
      "\n",
      "\n",
      "39\n",
      "Review: us state of louisiana hosts an annual event 39 angola prison 39 where inmates battle horses and bulls for money in one of the events 39 guts and glory 39 inmates try to poker chip from horns of charging bull for winning the ₹33 000 500 grand prize the event is part of 53 year old tradition that attracts thousands of visitors \n",
      "Original summary: start prisoners battle bulls for money in us state end \n",
      "Predicted summary:  start 39 39 day of 39 39 is celebrated on october end\n",
      "\n",
      "\n",
      "40\n",
      "Review: ms dhoni has donated his pads and gloves for an auction to fund the cancer treatment of football fan mahi and the family of deceased fan chakraborty besides dhoni sportspersons like ajinkya rahane leander paes sourav ganguly among others have also donated memorabilia the auction organised by kolkata based media group is on june 11 in kolkata \n",
      "Original summary: start dhoni donates gloves for charity auction end \n",
      "Predicted summary:  start kohli 39 first look of 39 39 released end\n",
      "\n",
      "\n",
      "41\n",
      "Review: former world number one and 2008 french open winner ana ivanovic announced her retirement from professional tennis through facebook live video on wednesday the 29 year old was out of action since august following injury and dropped to 63 in world rankings ivanovic was world number one for 12 weeks in 2008 and won 15 singles titles in her 13 year long career \n",
      "Original summary: start former world number one retires from tennis end \n",
      "Predicted summary:  start messi 39 richest man wins gold at the world end\n",
      "\n",
      "\n",
      "42\n",
      "Review: north korea on monday threatened to launch nuclear strike of on washington and seoul this comes in reaction to the annual united states south korea military drill that just started and is expected to take place till april the 34 will be reduced to seas in flames and ashes 34 at the push of button north korea said \n",
      "Original summary: start n korea threatens nuke attacks on us korea end \n",
      "Predicted summary:  start n korea fires ballistic missiles into end\n",
      "\n",
      "\n",
      "43\n",
      "Review: with production cost of nearly 7 million pop star michael jackson 39 music video 39 scream 39 also starring janet jackson is the most expensive music video of all time the 1995 video takes place on an built spaceship set and won grammy for the 39 best short form music video 39 that year notably monday was michael jackson 39 58th birth anniversary \n",
      "Original summary: start michael jackson music video is world 39 most expensive end \n",
      "Predicted summary:  start 39 39 most searched on google today end\n",
      "\n",
      "\n",
      "44\n",
      "Review: congress councillor sunil was sworn in as the first mayor of imphal the capital city of manipur on thursday sunil was elected unanimously to the imphal municipal corporation despite objection by the opposition bjp who boycotted the election with ongoing protests over the implementation of the inner line permit in manipur the election was conducted amidst heavy security deployment \n",
      "Original summary: start sunil sworn in as first mayor of imphal end \n",
      "Predicted summary:  start bjp to give up to curb pollution in up end\n",
      "\n",
      "\n",
      "45\n",
      "Review: as per reports actor shah rukh khan will play the role of warrior in filmmaker aditya chopra 39 next film the film is said to be period film and aditya 39 most ambitious project till date during the promotion of 39 fan 39 shah rukh had said 34 think will start shooting for aditya 39 next by the end of 2017 34 \n",
      "Original summary: start srk to play warrior in aditya 39 next report end \n",
      "Predicted summary:  start 39 39 song from 39 befikre 39 released end\n",
      "\n",
      "\n",
      "46\n",
      "Review: a 23 year old chinese construction worker practices self taught fitness routines on construction sites using bricks as and for high bars shi posts his videos on chinese app called where he has around 11 lakh followers he said 34 saw workout video on the internet and thought the routine was great 34 \n",
      "Original summary: start construction worker uses as workout end \n",
      "Predicted summary:  start 39 39 39 is 39 to be made on end\n",
      "\n",
      "\n",
      "47\n",
      "Review: german carmaker volkswagen on monday unveiled its new mobility brand under which it plans to focus on ride hailing autonomous driving and electric cars in european cities from next year this comes amid volkswagen 39 attempt to become leading on demand transport service provider the business could reportedly generate revenues worth 2 1 billion by decade end \n",
      "Original summary: start volkswagen launches service start up end \n",
      "Predicted summary:  start samsung launches new new electric car in india end\n",
      "\n",
      "\n",
      "48\n",
      "Review: the cup final match between melbourne city and sydney fc had to be paused after sydney 39 goalkeeper danny attended to an injured seagull in the 59th minute of the match the seagull was struck by the football and laid on the ground before picked it up and escorted the bird to the sidelines \n",
      "Original summary: start football match to let goalkeeper save injured end \n",
      "Predicted summary:  start in pictures comic con in the world end\n",
      "\n",
      "\n",
      "49\n",
      "Review: actor sushant singh rajput has confirmed that there will be sequel to the 2015 film 39 detective 39 where sushant had played the titular character the actor confirmed this in recent amp session on twitter the film was based on the fictional detective 39 bakshi 39 created by the bengali writer bandyopadhyay \n",
      "Original summary: start to get sequel sushant end \n",
      "Predicted summary:  start 39 39 to release on september 23 end\n",
      "\n",
      "\n",
      "50\n",
      "Review: reacting to the viral fever tvf rubbishing molestation allegations against founder and ceo arunabh kumar former infosys board member and angel investor mohandas pai tweeted 34 the law says there must be an inquiry not this silly rubbishing 34 this comes after tvf in its official statement called the allegations 34 categorically false baseless and unverified 34 \n",
      "Original summary: start there must be inquiry not pai on tvf row end \n",
      "Predicted summary:  start pm modi wishes 39 39 in the of 39 end\n",
      "\n",
      "\n",
      "51\n",
      "Review: advisor to the chairman of multinational group moët hennessy louis vuitton singh on thursday was conferred the knight of the legion of honour france 39 highest honour by french ambassador françois in new delhi singh was accorded the top honour for his 34 extraordinary work in exchanging the french lifestyle and indian culture with each other 34 n \n",
      "Original summary: start singh given france 39 top honour end \n",
      "Predicted summary:  start indian hockey team to be held in india end\n",
      "\n",
      "\n",
      "52\n",
      "Review: american actor and filmmaker woody allen has cast singer miley cyrus in his debut web streaming series for amazon the upcoming series which will also star allen and actress may is scheduled to have six half hour episodes in 2016 and is reportedly set in the 1960s earlier allen called his decision to work on web series 34 catastrophic mistake 34 \n",
      "Original summary: start woody allen casts in his debut web series end \n",
      "Predicted summary:  start 39 39 most searched on youtube today end\n",
      "\n",
      "\n",
      "53\n",
      "Review: indian railways on wednesday launched 39 sewa 39 service under which baby food hot milk and hot water will be provided at stations the facility has initially been introduced at 25 railway stations including new delhi mumbai central howrah chennai nagpur pune and surat besides this railways has also launched food menu for children in the 5 12 age group \n",
      "Original summary: start railways starts baby food at stations end \n",
      "Predicted summary:  start railways to get free wifi in india end\n",
      "\n",
      "\n",
      "54\n",
      "Review: the government is keeping 34 close watch 34 on the developments relating to the tata mistry case but does not want to 34 interfere 34 at present mos for corporate affairs arjun ram meghwal has said he added that the centre hasn 39 received any representation from regulatory authorities like sebi and would 34 take note 34 when asked to look into the matter in the future \n",
      "Original summary: start govt keeping 39 close watch 39 on tata mistry matter end \n",
      "Predicted summary:  start 39 39 trending on twitter today end\n",
      "\n",
      "\n",
      "55\n",
      "Review: amid attempts to boost rural economy by using bio resources 39 national mission on 39 was launched by the institute of bio resources and sustainable development under the science and technology ministry the mission is unique to south east asia and india is now among the few countries to have tapped bio resources an official said india 39 bio economy could reach 100 billion he added \n",
      "Original summary: start national mission on launched end \n",
      "Predicted summary:  start railways to launch new bike in india end\n",
      "\n",
      "\n",
      "56\n",
      "Review: singer actor demi lovato responding to her leaked private photographs wrote on twitter that the picture is not nude and is just cleavage she added 34 love how everyone 39 out about one picture 34 demi further tweeted 34 besides the world has seen me nude by choice before angles 34 referring to when she posed nude for vanity fair magazine in 2015 \n",
      "Original summary: start it 39 not nude just on leaked pictures end \n",
      "Predicted summary:  start 39 39 trending on twitter today end\n",
      "\n",
      "\n",
      "57\n",
      "Review: anil galgali mumbai based rti activist on thursday alleged that bollywood actress and bjp mp hema malini was allotted 000 square metre prime plot in mumbai to start dance academy reportedly for ₹70 000 galgali added that this is the second time hema was allotted land by the bjp sena government in maharashtra galgali said he has written to cm devendra fadnavis \n",
      "Original summary: start hema malini got land worth for rti end \n",
      "Predicted summary:  start 39 39 to be made in the theatres end\n",
      "\n",
      "\n",
      "58\n",
      "Review: singer miley cyrus shared photograph on sunday from her lakshmi puja on instagram the photo shows the hindu ritual being performed by and features pictures of the goddess lakshmi and her spiritual miley wrote that she chose 39 fruit bowl 39 referring to the offering at the puja over attending the american football championship 39 super bowl 39 \n",
      "Original summary: start cyrus shares pictures from her lakshmi puja end \n",
      "Predicted summary:  start 39 39 trending on twitter today end\n",
      "\n",
      "\n",
      "59\n",
      "Review: pakistani spinner yasir shah set the record for most runs given away by bowler in three test series conceding 672 runs in the ongoing series against australia on friday shah went past former sri lankan spinner muttiah muralitharan who had conceded 649 runs in three tests against australia in 2003 04 shah has taken eight wickets in the series \n",
      "Original summary: start shah most runs ever in 3 test series end \n",
      "Predicted summary:  start india 39 test series against australia end\n",
      "\n",
      "\n",
      "60\n",
      "Review: alastair cook became the first england player to break into the top ten run in test cricket history after scoring 12 runs in the second innings against india in the third test cook who now has 10 runs in 249 test innings overtook former australian captain steve waugh who had scored 10 runs in his test career \n",
      "Original summary: start cook breaks into top 10 highest run in test cricket end \n",
      "Predicted summary:  start ashwin 39 first ever test ton helps australia beat england end\n",
      "\n",
      "\n",
      "61\n",
      "Review: recent data released by tinder shows that indian 39 tinder plus 39 users swipe the most in new delhi followed by bangalore mumbai pune and kolkata meanwhile london tops the international destinations preferred by indian users followed by new york dubai los angeles and amsterdam 39 tinder plus 39 allows users to change their location while travelling through the feature 39 tinder passports 39 \n",
      "Original summary: start indian 39 tinder plus 39 users most in delhi end \n",
      "Predicted summary:  start 39 39 most searched on google today end\n",
      "\n",
      "\n",
      "62\n",
      "Review: the cbi is set to probe the appointment of delhi health minister satyendra jain 39 daughter soumya jain in his own ministry as the advisor to the mission director as per reports soumya had no experience in health sector and instead held background in the architecture field further her appointment was reportedly not result of selection through transparent processes \n",
      "Original summary: start cbi to probe appointment of aap minister 39 daughter end \n",
      "Predicted summary:  start 39 39 is not to be for 39 end\n",
      "\n",
      "\n",
      "63\n",
      "Review: following her loss in rio 39 mixed doubles bronze medal match indian tennis player sania mirza said 34 olympics come in four years don 39 know if will be able to play tennis in four years again 34 34 it’s going to take some time to get over it we have to get over losses and try to bounce back 34 sania added \n",
      "Original summary: start don 39 know if 39 ll be there in tokyo 2020 mirza end \n",
      "Predicted summary:  start 39 india 39 most searched on google today end\n",
      "\n",
      "\n",
      "64\n",
      "Review: as of june 2015 at least 219 directors on the boards of listed companies have served on the boards of companies that are deemed as wilful defaulters according to capital markets tracker prime database total of listed firms have such directors on their boards with firms in the finance sector leading the list followed by textiles and trading \n",
      "Original summary: start 1 2k listed firms directors linked to defaulters end \n",
      "Predicted summary:  start 39 39 india 39 to be launched in india end\n",
      "\n",
      "\n",
      "65\n",
      "Review: the largest gathering of santa claus was achieved by 18 112 people in thrissur kerala on december 27 2014 according to the guinness world records the event organised by thrissur amp thrissur aimed to raise charitable funds for the help of the poor it was held as part of 39 39 christmas celebration in kerala \n",
      "Original summary: start world 39 largest of santa claus was held in india end \n",
      "Predicted summary:  start 39 39 luru atm 39 for end\n",
      "\n",
      "\n",
      "66\n",
      "Review: nasa has announced that it will broadcast the annual meteor shower on its stream starting from 7 30 am ist on friday predict that the shower will have twice the usual number of shooting stars this year the meteors will be travelling at 59 which nasa claims is 500 times faster than the fastest car in the world \n",
      "Original summary: start nasa to broadcast shower live on friday end \n",
      "Predicted summary:  start scientists develop new type of ice cream end\n",
      "\n",
      "\n",
      "67\n",
      "Review: for the fifth time in just over two weeks pakistan on tuesday summoned the indian deputy high commissioner jp singh and lodged strong protest over alleged 34 unprovoked 34 firing by indian forces along the loc the firing resulted in the death of civilians including woman and injuries to four others including 5 year old boy pakistan officials said \n",
      "Original summary: start pak summons india 39 deputy hc over ceasefire violations end \n",
      "Predicted summary:  start pak army chief visits pak in pathankot attack end\n",
      "\n",
      "\n",
      "68\n",
      "Review: saddened by roger federer 39 decision to withdraw from the rio olympics user tweeted 34 hope this isn 39 the beginning of the end of rogerfederer pro tennis career 34 other tweets included 34 probably the last olympics opportunity for rogerfederer ends here with dream doubles amp mixed partners too goat 34 and 34 roger federer will miss rio2016 but not because of zika 34 \n",
      "Original summary: start twitter reacts to federer 39 olympics end \n",
      "Predicted summary:  start twitter reacts to federer 39 39 in olympics end\n",
      "\n",
      "\n",
      "69\n",
      "Review: an fir has been filed against comedian kapil sharma and actor irrfan khan over illegal construction in their flats in goregaon mumbai if convicted they can face jail term from one month to three years along with fine of ₹2 000 to ₹5 000 the brihanmumbai municipal corporation claimed that it found major violations in 15 flats in the goregaon building \n",
      "Original summary: start fir against kapil irrfan for illegal construction end \n",
      "Predicted summary:  start fir against kapil sharma for violating construction end\n",
      "\n",
      "\n",
      "70\n",
      "Review: at least 25 people were killed and several others were wounded on wednesday after suicide bomber detonated his explosive vest inside the main judicial building in the syrian capital damascus reports said it comes on the sixth anniversary of the start of the uprising against president bashar al assad no one has claimed responsibility for the attack yet \n",
      "Original summary: start at least 25 killed in bombing in syria end \n",
      "Predicted summary:  start at least killed in suicide bombing end\n",
      "\n",
      "\n",
      "71\n",
      "Review: brazilian mixed martial artist amanda nunes became the ultimate fighting first openly gay fighter to win title after defeating american tate on saturday girlfriend nina is also ufc fighter of whom nunes said is the best training partner have in my life she is going to be the next ufc champion ” \n",
      "Original summary: start becomes first gay ufc champion end \n",
      "Predicted summary:  start footballer dies after falling on field end\n",
      "\n",
      "\n",
      "72\n",
      "Review: australia based scientists have discovered the remains of massive underwater landslide on the great barrier reef the event is thought to have happened more than lakh years ago using 3 d simulations scientists found that 27 metre high tsunami would have struck the coastline of present day australia scattering the debris across 30 kilometres \n",
      "Original summary: start 3l yrs old undersea landslide revealed on great barrier reef end \n",
      "Predicted summary:  start scientists find new species of the year end\n",
      "\n",
      "\n",
      "73\n",
      "Review: a police complaint has been filed against 42 west bengal poet for hurting the religious sentiments of hindus according to the complainant 2nd year student his facebook poem makes derogatory remarks about hindu symbol 39 39 further hindu president said 34 the poem is written on the basis of false information against uttar pradesh cm yogi adityanath 34 \n",
      "Original summary: start fir against bengal poet for religious end \n",
      "Predicted summary:  start fir against ex rjd mp shahabuddin end\n",
      "\n",
      "\n",
      "74\n",
      "Review: hamza bin laden son of dead al qaeda leader osama bin laden has threatened revenge against the us for his father in 21 minute speech entitled 34 we are all osama 34 according to an intelligence group reportedly hamza now in his mid was at his father 39 side in afghanistan before the 9 11 attacks and spent time with him in pakistan n \n",
      "Original summary: start 39 bin 39 son threatens 39 end \n",
      "Predicted summary:  start man who killed as us to be jailed for isis end\n",
      "\n",
      "\n",
      "75\n",
      "Review: richard adams the author of bestselling children 39 book down passed away on saturday aged 96 the english author had won several awards for down which was later made into an animated movie adams also known for writing and the dogs had served in the british army during world war ii \n",
      "Original summary: start kids 39 book author richard dies aged 96 end \n",
      "Predicted summary:  start 39 39 of the best 39 in the world 39 end\n",
      "\n",
      "\n",
      "76\n",
      "Review: girnarsoft the parent company of auto portals such as cardekho gaadi and zigwheels has management consultants in cash deal the move marks of the company to cater to the public sector by providing e governance solutions consulting and management support services is ninth deal in the last two years \n",
      "Original summary: start in cash deal end \n",
      "Predicted summary:  start amazon to launch new bike delivery in india end\n",
      "\n",
      "\n",
      "77\n",
      "Review: icici bank has seen 70 rise in in branches across india following ₹500 ₹1 000 currency notes 39 demonetisation ceo chanda kochhar said 34 this is time when banks will see good growth in deposits 34 she stated however banks are not looking at this as business opportunity and instead seeking to serve customers to meet their needs she added \n",
      "Original summary: start icici bank up 70 on ₹500 ₹1000 note end \n",
      "Predicted summary:  start rbi to give ₹1 000 cr for income tax end\n",
      "\n",
      "\n",
      "78\n",
      "Review: a us based startup has developed ₹3 400 home kit called 39 yo sperm 39 that lets men test their fertility through their smartphone the kit includes sample collection cup testing slide plastic special powder and mini microscope the mini microscope to the smartphone 39 camera to measure the sperm mobility \n",
      "Original summary: start new ₹3 400 kit lets men test fertility through smartphone end \n",
      "Predicted summary:  start startup makes portable device to turn any end\n",
      "\n",
      "\n",
      "79\n",
      "Review: the indian government has earned over ₹6 700 crore through toll fee in 2015 16 according to government data together the five states of up andhra pradesh rajasthan tamil nadu and west bengal accounted for over 60 of the total revenue collected over the past few years there are toll plazas on various national highways across india as of november 2016 \n",
      "Original summary: start how much does govt earn through on national highways end \n",
      "Predicted summary:  start govt to set up to raise ₹1 000 cr in fy17 end\n",
      "\n",
      "\n",
      "80\n",
      "Review: to ensure students do not shift to cbse board the icse board has decided to revamp the syllabus and prepare students for competitive exams many students shift to cbse schools as there is perception that it is more aligned to the competitive exams the board said it also wanted neutral body to conduct such exams instead of cbse \n",
      "Original summary: start to retain students end \n",
      "Predicted summary:  start maha govt to give up to help students end\n",
      "\n",
      "\n",
      "81\n",
      "Review: 39 largest bank bank 39 37 billion fund manager robert has said that apple is 34 boring 34 to buy as its price has gone down and the risk is lower he pointed out that the company 39 uninterrupted sales growth for 13 years ended in 2016 notably started buying apple stocks this year and now owns 2 in apple \n",
      "Original summary: start apple is boring now says 37 billion fund manager end \n",
      "Predicted summary:  start flipkart ceo binny bansal 39 net worth crore end\n",
      "\n",
      "\n",
      "82\n",
      "Review: asus on tuesday launched new variant of its tablet hybrid transformer book at ₹23 990 in india the 2 in 1 convertible is powered by windows 10 operating system including features like cortana and the new tablet comes with 10 1 inch display mp rear camera mp front camera 64 gb of internal storage space and gb ram \n",
      "Original summary: start asus launches new tablet hybrid at 990 end \n",
      "Predicted summary:  start intex launches cloud smartphone for end\n",
      "\n",
      "\n",
      "83\n",
      "Review: sri lanka revamped their selection committee on monday night citing the team 39 recent poor performance replacing the previous 4 member panel with new 5 member team the new panel contains former batsman de silva former wicketkeeper former and ranjith along with recently retired batting legend kumar sangakkara \n",
      "Original summary: start sl fire selection committee sangakkara roped in end \n",
      "Predicted summary:  start australia 39 first ever test debutant played on this day end\n",
      "\n",
      "\n",
      "84\n",
      "Review: the demand for work under mahatma gandhi national rural employment guarantee act mgnrega has suddenly peaked after high value currency was demonetised in november reports said further the outlay for the scheme in the current year is set to surpass ₹51 000 crore the highest ever migrants returning to their native places contributed to the rise in demand for work reports added \n",
      "Original summary: start demand for work under mgnrega after note ban report end \n",
      "Predicted summary:  start govt to give ₹1 000 cr for income tax end\n",
      "\n",
      "\n",
      "85\n",
      "Review: the government on thursday introduced the aadhaar targeted delivery of financial and other subsidies benefits and services bill 2016 in the lok sabha as money bill the bill would help the government implement its direct benefit transfer programme for subsidies the rajya sabha can only recommend and not make amendments in money bill passed by the lok sabha \n",
      "Original summary: start aadhaar bill tabled as money bill in lok sabha end \n",
      "Predicted summary:  start govt to give old notes to curb pollution end\n",
      "\n",
      "\n",
      "86\n",
      "Review: a us jury has agreed to count gif as 34 deadly weapon 34 in case against man who tweeted seizure causing flashing image to journalist with epilepsy the man john has been charged with 34 aggravated assault with deadly weapon 34 the tweet sent in december also had the text 34 you deserve seizure for your post 34 \n",
      "Original summary: start decided to be 39 deadly weapon 39 by us jury end \n",
      "Predicted summary:  start us judge allows woman to unlock phone with end\n",
      "\n",
      "\n",
      "87\n",
      "Review: richard member of us president donald trump 39 florida club posted photo of himself with trump aide he claimed carries the president 39 39 nuclear football 39 34 this is rick he carries the 34 football 34 the nuclear football president 39 emergency 34 wrote on facebook nuclear football is which can be used by the us president to authorise nuclear attack \n",
      "Original summary: start trump 39 guest poses with man carrying 39 nuclear football 39 end \n",
      "Predicted summary:  start trump 39 first lady 39 to be released end\n",
      "\n",
      "\n",
      "88\n",
      "Review: facebook owned messaging service whatsapp 39 beta versions are now available with the video calling feature for some users available under the whatsapp call button the feature allows switching between the front and rear cameras earlier this month whatsapp started rolling out the new feature as beta version on the windows platform \n",
      "Original summary: start whatsapp starts testing video calling on android end \n",
      "Predicted summary:  start facebook messenger allows users to end\n",
      "\n",
      "\n",
      "89\n",
      "Review: in protest against the alleged negligence of the delhi government and the centre regarding the non payment of salaries sanitation workers on tuesday dumped garbage outside the residence of aap mla raju this comes after delhi deputy cm manish sisodia informed that crore has been provided to the east delhi municipal corporation for providing salaries to workers \n",
      "Original summary: start sanitation workers dump garbage outside aap mla 39 residence end \n",
      "Predicted summary:  start govt to give more registration to avoid differences end\n",
      "\n",
      "\n",
      "90\n",
      "Review: according to media reports former chelsea and real madrid head josé mourinho is set to take over louis van gaal as manchester united 39 new manager the portuguese who was sacked by chelsea in 2015 after premier league slump rejected an offer from paris saint germain van gaal had replaced david as united 39 head in 2014 on three year contract \n",
      "Original summary: start mourinho to be man utd 39 next manager report end \n",
      "Predicted summary:  start ronaldo 39 first female to open in the world end\n",
      "\n",
      "\n",
      "91\n",
      "Review: former delhi bjp mla vijay jolly has been booked for rape after woman alleged that he sexually assaulted her police said on thursday the delhi based woman accused the former legislator of spiking her drink before sexually assaulting her in gurugram resort jolly had also filed police complaint against the woman accusing her of blackmailing and extortion \n",
      "Original summary: start former bjp mla vijay jolly booked on rape charges end \n",
      "Predicted summary:  start bjp mla booked for 39 39 end\n",
      "\n",
      "\n",
      "92\n",
      "Review: india 39 top ranked shuttler pv sindhu made winning start to the world superseries finals in dubai after winning her opening round match against world number eight yamaguchi on wednesday the rio silver medal winning badminton player beat yamaguchi 12 21 21 8 21 15 in the group match sindhu will next face china 39 sun yu in her next group game \n",
      "Original summary: start sindhu beats world no to win finals 39 opener end \n",
      "Predicted summary:  start india wins silver at asian championships end\n",
      "\n",
      "\n",
      "93\n",
      "Review: according to association of mutual funds of india data the contribution of cities to mutual funds 39 asset base surged 13 5 to ₹2 14 lakh crore in the first nine months of the ongoing fiscal 39 39 refers to small towns and cities beyond the top 15 cities of india currently mutual fund houses manage total assets worth over ₹12 74 lakh crore \n",
      "Original summary: start mutual fund assets from small cities up 13 5 end \n",
      "Predicted summary:  start india 39 industrial output expands 0 7 in september end\n",
      "\n",
      "\n",
      "94\n",
      "Review: raghuram rajan whose term as the rbi governor ends in september will be the first governor in 25 years whose term will not be extended rajan had announced in june that he will step down on september at the end of his three year term the rbi on saturday announced the appointment of urjit patel as its new governor \n",
      "Original summary: start rajan first rbi guv in 25 yrs to not get extension end \n",
      "Predicted summary:  start rajan 39 39 bank account rise by ₹32 cr end\n",
      "\n",
      "\n",
      "95\n",
      "Review: central government employees up to group can withdraw an advance salary of ₹10 000 in cash economic affairs secretary shaktikanta das announced on thursday the amount will be adjusted in the employees 39 salaries for the month of november he added the move comes after the cash exchange limit at banks was reduced from ₹4 500 to ₹2 000 \n",
      "Original summary: start central govt staff up to group allowed ₹10k advance salary end \n",
      "Predicted summary:  start govt to set up aiims for projects end\n",
      "\n",
      "\n",
      "96\n",
      "Review: actress commenting on rumours of dating former indian cricketer zaheer khan said that she 39 in very happy space right now the couple made their first public appearance together at cricketer yuvraj singh and actress hazel keech 39 wedding in december 2016 who made her bollywood debut with 2007 film 39 chak de india 39 will feature next in 39 39 n n n \n",
      "Original summary: start in very happy space right now on dating zaheer end \n",
      "Predicted summary:  start 39 39 is the most searched on google today end\n",
      "\n",
      "\n",
      "97\n",
      "Review: delhi chief minister arvind kejriwal on wednesday said that the people of india have choice between the aap model of governance and the 34 34 gujarat model which has 34 cheated 34 indians kejriwal claimed the people are 34 so satisfied with aap’s model of governance in the national capital that if elections are held today bjp won’t win even single seat 34 \n",
      "Original summary: start 34 34 gujarat model cheated people aap end \n",
      "Predicted summary:  start pm modi to inaugurate 39 39 in punjab 39 end\n",
      "\n",
      "\n",
      "98\n",
      "Review: bjp leader subramanian swamy has been given the 34 tamil ratna 34 award by body of tamil diaspora in the us for fighting corruption and working for transparency in governance the award was conferred to swamy by the america tamil sangam india is again 34 projecting the message that it can be governed in the most transparent manner 34 swamy said \n",
      "Original summary: start subramanian swamy awarded 39 tamil ratna 39 in us end \n",
      "Predicted summary:  start pm modi to address his own in india end\n",
      "\n",
      "\n",
      "99\n",
      "Review: international researchers have started mapping the yellowstone in the us to provide insight into the vast systems that fuel its explosive they are carrying out electromagnetic surveys to reveal the systems operating below one of the world 39 most dangerous active volcanoes estimated to kill around 90 000 people almost instantly upon eruption \n",
      "Original summary: start scientists map volcano to find its fuel source end \n",
      "Predicted summary:  start scientists develop new type of human end\n",
      "\n",
      "\n"
     ]
    }
   ],
   "source": [
    "for i in range(0,100):\n",
    "    print(f\"{i}\")\n",
    "    print(\"Review:\",seq2text(x_tr[i]))\n",
    "    print(\"Original summary:\",seq2summary(y_tr[i]))\n",
    "    print(\"Predicted summary:\",decode_sequence(x_tr[i].reshape(1,max_text_len)))\n",
    "    print(\"\\n\")"
   ]
  },
  {
   "cell_type": "code",
   "execution_count": 47,
   "metadata": {
    "execution": {
     "iopub.execute_input": "2021-12-28T12:27:34.258574Z",
     "iopub.status.busy": "2021-12-28T12:27:34.258251Z",
     "iopub.status.idle": "2021-12-28T12:27:46.292826Z",
     "shell.execute_reply": "2021-12-28T12:27:46.292012Z",
     "shell.execute_reply.started": "2021-12-28T12:27:34.258525Z"
    }
   },
   "outputs": [
    {
     "name": "stdout",
     "output_type": "stream",
     "text": [
      "4960\n",
      "0\n",
      "Review: the university of colorado girls 39 football team scored goal against hawaii following front flip throw in in the third minute from university of colorado 39 evans evans 39 throw in reached the opponent 39 penalty box where her teammate taylor scored with header into the far post the university of colorado team went on to win the match 3 1 \n",
      "Original summary: start team scores goal from throw in end \n",
      "Predicted summary:  start 39 39 most searched on zomato end\n",
      "\n",
      "\n",
      "1\n",
      "Review: state run oil and natural gas corporation ongc has received clearance from the environment ministry for ₹53 000 crore project in andhra pradesh 39 krishna godavari basin under the project ongc will dig 45 development wells and build other related infrastructure the project is expected to produce 51 33 billion cubic meters of gas and 26 71 million cubic meters of oil \n",
      "Original summary: start ongc gets approval for cr project in andhra end \n",
      "Predicted summary:  start india 39 largest import of oil cos up by end\n",
      "\n",
      "\n",
      "2\n",
      "Review: idea cellular has released ad films promoting its 4g network that take jab at reliance jio 39 free data offers one of the ads shows man parking his car in 39 no parking 39 zone and calling it 39 free parking 39 after the car is away the ad ends with 34 free ki mat no idea 4g 34 \n",
      "Original summary: start idea takes dig at reliance jio 39 free offer in new ads end \n",
      "Predicted summary:  start reliance jio 39 39 launched in india end\n",
      "\n",
      "\n",
      "3\n",
      "Review: pathankot terror attack martyr nsg commando niranjan kumar 39 bengaluru home is on the list of the ongoing demolition drive in the city to make way for the drainage system requesting to stop the demolition niranjan 39 brother shashank said 34 it 39 very hard for us to digest this because we have lost our brother now we are seeing the house being demolished 34 \n",
      "Original summary: start pathankot martyr 39 39 luru home on demolition list end \n",
      "Predicted summary:  start pak 39 pak 39 envoy to visit india end\n",
      "\n",
      "\n",
      "4\n",
      "Review: violent clashes broke out between supporters of us president donald trump and those against him in berkeley california on saturday protesters from both sides pushed each other threw punches struck one another over the head with sticks and fired pepper spray while police reportedly stood at distance following the violence 10 people were arrested and seven were injured \n",
      "Original summary: start pro and anti trump protesters clash at end \n",
      "Predicted summary:  start isis chief 39 son in turkey end\n",
      "\n",
      "\n",
      "5\n",
      "Review: having been dismissed for 99 and 98 in his two previous innings former australian batsman hill was dismissed for 97 on january 22 at adelaide hill 39 99 was the first ever in cricket history and was scored on wet wicket in the previous test at melbourne the 98 run innings was scored in the first innings of adelaide test \n",
      "Original summary: start batsman scored 99 98 and 97 in test innings end \n",
      "Predicted summary:  start pakistan 39 first ever test ton on this day end\n",
      "\n",
      "\n",
      "6\n",
      "Review: bjp leader shahnawaz hussain has said there 39 no muslim leader in bjp to be fielded in upcoming uttar pradesh assembly elections 34 the party candidates from all religions castes and classes the committee looks at the ability of the candidate to win 34 he added criticising sp he said it allied with congress to hide its five years of failure \n",
      "Original summary: start no bjp muslim leader in up hussain end \n",
      "Predicted summary:  start bjp dares bjp to form alliance with bjp end\n",
      "\n",
      "\n",
      "7\n",
      "Review: dating from the american civil war which lasted from 1861 to 1865 were unearthed due to powerful currents generated by hurricane matthew on beach in the us state of south carolina bomb squad has been put in place to clear the according to officials notably the death toll from hurricane matthew has crossed 000 \n",
      "Original summary: start civil war era unearthed after hurricane matthew end \n",
      "Predicted summary:  start man dies after falling on end\n",
      "\n",
      "\n",
      "8\n",
      "Review: indian origin cab driver pal singh will be presented with an award in the 39 2017 local hero 39 category as part of 39 australian of the year award 39 on january 25 2017 for contributing to the community through his initiative 39 food van 39 singh distributes around 80 kilograms of food every month funded from his own money to the needy through his 39 food van 39 \n",
      "Original summary: start indian man to get 39 australian of the year local hero 39 award end \n",
      "Predicted summary:  start indian women 39 team wins gold at olympics end\n",
      "\n",
      "\n",
      "9\n",
      "Review: congress vice president rahul gandhi will cover 500 km in nearly four weeks in uttar pradesh making it his longest yatra ever during the yatra which will begin from on september gandhi will pass through 55 lok sabha constituencies and 223 assembly divisions across 39 districts he will reportedly also address small public meetings in 21 districts \n",
      "Original summary: start rahul to cover 500 km for his longest yatra end \n",
      "Predicted summary:  start pm modi inaugurates 39 39 largest maritime summit end\n",
      "\n",
      "\n",
      "10\n",
      "Review: two jawans of the cobra battalion were injured in pressure bomb blast triggered by naxals in chhattisgarh 39 insurgency hit district reports said on friday the incident occurred when team of cobra 39 battalion was carrying out search operation in area and the two jawans stepped over pressure ied improvised explosive device crpf officials said \n",
      "Original summary: start two cobra jawans injured in naxal blast in chhattisgarh end \n",
      "Predicted summary:  start army jawan martyred in encounter in amp k end\n",
      "\n",
      "\n",
      "11\n",
      "Review: congress vice president rahul gandhi on thursday said 34 will never stop fighting the hateful and divisive agenda of the rss 34 gandhi also said in tweet that he stands by every single word he had previously said about the organisation the tweet was linked to video wherein he can be seen saying 34 the 39 people of rss 39 killed gandhiji 34 \n",
      "Original summary: start 39 will never stop fighting rss agenda 39 end \n",
      "Predicted summary:  start modi praises modi on his birthday end\n",
      "\n",
      "\n",
      "12\n",
      "Review: egyptian national eman ahmed who is reportedly the world 39 heaviest woman has lost 100 kg since her admission to hospital in mumbai on february 11 doctors said she lost the weight by following strict liquid diet 34 the diet and medicines have done their job the next round of weight loss will be through surgery 34 doctor said \n",
      "Original summary: start 39 world 39 heaviest woman 39 100 kg in less than month end \n",
      "Predicted summary:  start 39 39 39 is the most searched on zomato end\n",
      "\n",
      "\n",
      "13\n",
      "Review: former uk secret intelligence service chief sir john has said that the world faces cold war era threat levels because the western powers failed to recognise the growth of russian military power over the past 15 years added that britain was moving into 34 dangerous 34 era because it does not focus on 34 strategic relationship 34 between russia and the us \n",
      "Original summary: start world facing cold war level threat ex uk spy chief end \n",
      "Predicted summary:  start us navy agency develops missile test end\n",
      "\n",
      "\n",
      "14\n",
      "Review: atletico madrid defeated eibar 3 1 at the in their la liga encounter on saturday eibar took the lead through but goals from jose and fernando torres who scored his 100th for atletico helped the home team get the win the win leaves them level with barcelona at the top having played two games more \n",
      "Original summary: start la liga atletico madrid cruise to 3 1 home win end \n",
      "Predicted summary:  start real madrid defeat leicester city 2 0 end\n",
      "\n",
      "\n",
      "15\n",
      "Review: south korean smartphone maker samsung has unveiled new black variant of its galaxy s7 edge smartphone called 39 pearl black 39 which looks similar to the 39 jet black 39 iphone variant the colour will be exclusive to the 128 gb version of the device and will be available to buy in select markets from december 9 \n",
      "Original summary: start pearl black s7 edge unveiled to take on jet black iphone 7 end \n",
      "Predicted summary:  start samsung unveils galaxy s7 edge in one end\n",
      "\n",
      "\n",
      "16\n",
      "Review: with an average of 5 6 people in each household uttar pradesh has the largest household size in the country according to survey by indiaspend after up rajasthan 5 5 and jharkhand have the largest families in india notably 44 of households in uttar pradesh have more than six people n n n \n",
      "Original summary: start households in up are largest in india end \n",
      "Predicted summary:  start over 000 people in delhi 39 khand end\n",
      "\n",
      "\n",
      "17\n",
      "Review: to promote religious accommodation the new york police department has decided to allow sikh officers to wear and maintain the decision was taken to encourage inclusiveness and promote the minority community to join the 34 greatest police department 34 in the us senior official said notably there are currently 160 sikh officers serving in the he added \n",
      "Original summary: start to allow sikh officers to wear keep end \n",
      "Predicted summary:  start 39 39 luru cops 39 trending on twitter today end\n",
      "\n",
      "\n",
      "18\n",
      "Review: irctc has now fixed minimum of 35 seconds to fill all details and book ticket online this move was reportedly made as an attempt to sweep out unnecessary bookings earlier the minimum time was 10 seconds however it was later that many agents used automatic software to book tickets in very short duration of time \n",
      "Original summary: start irctc sets 35 sec minimum online booking time end \n",
      "Predicted summary:  start india 39 first indian to get its own car end\n",
      "\n",
      "\n",
      "19\n",
      "Review: five time boxing world champion mc mary kom failed to qualify for the rio olympics after losing her 2nd round bout at the women’s world boxing championships in astana fighting in the 51 kg weight category kom lost 0 2 to germany’s in the second round of the event where reaching the semifinals would have ensured qualification to the olympic games \n",
      "Original summary: start mary kom fails to qualify for rio olympics end \n",
      "Predicted summary:  start wins olympic gold medal in rio end\n",
      "\n",
      "\n",
      "20\n",
      "Review: india 39 onion output is estimated to have touched record 21 million tonne mark an 11 year on year growth in the 2015 16 crop year the agriculture ministry said on monday the production surpassed the 19 4 million tonne mark of the 2013 14 crop year which was followed by 18 92 million tonne production in the 2014 15 crop year hiking the onion prices up to ₹45 per kilogram \n",
      "Original summary: start onion output sets new record at 21 mt in 2015 16 end \n",
      "Predicted summary:  start india 39 industrial output contracts 0 in december end\n",
      "\n",
      "\n",
      "21\n",
      "Review: china based alibaba has become the most valuable asian listed company after its market valuation rose to 266 billion chinese media reported on saturday this came amid internet firms 39 share prices due to business notably alibaba the world 39 largest e commerce platform posted 59 rise in revenue in the june quarter the strongest since its ipo in 2014 \n",
      "Original summary: start alibaba becomes most valuable asian listed firm end \n",
      "Predicted summary:  start alibaba 39 net profit falls by 9 in june quarter end\n",
      "\n",
      "\n",
      "22\n",
      "Review: softbank group the largest investor in alibaba group on tuesday said it will sell at least 7 9 billion of its stake in the chinese e commerce major to raise funds to reduce its debt the transaction which marks the first sale of alibaba shares by softbank would bring down the japanese firm 39 stake in alibaba to 28 from 32 2 in march \n",
      "Original summary: start softbank to sell stake worth 7 9 bn in alibaba end \n",
      "Predicted summary:  start flipkart 39 valuation slashed to 3 month high end\n",
      "\n",
      "\n",
      "23\n",
      "Review: facebook has announced that its instant messaging platform messenger will allow users to make payments to retailers directly rather than being to an external website facebook has partnered with paypal visa mastercard and american express among other payment processing companies according to the company businesses have built over 30 000 messenger bots to interact with customers \n",
      "Original summary: start facebook allows payments via messenger end \n",
      "Predicted summary:  start facebook to launch its own mobile app end\n",
      "\n",
      "\n",
      "24\n",
      "Review: islamist militant group abu sayyaf on saturday released south korean cargo ship captain and his filipino crew member held captive for over three months on an island in southern philippines according to officials the terrorist group is still holding around 24 hostages on its stronghold island where the government has deployed over 10 000 troops to fight them \n",
      "Original summary: start philippine islamist militants free two hostages end \n",
      "Predicted summary:  start isis claims civilians in mosul end\n",
      "\n",
      "\n",
      "25\n",
      "Review: china 39 official state run news agency has slammed the united kingdom 39 concerns over the 23 5 billion hinkley point nuclear deal as 34 china phobia 34 the agency added it would be for china to damage uk 39 national security the recently appointed uk prime minister theresa may had postponed the project 39 approval citing concerns over china 39 involvement in sensitive sectors \n",
      "Original summary: start china slams uk over 39 china 39 on nuke deal end \n",
      "Predicted summary:  start china 39 us warship to visit china end\n",
      "\n",
      "\n",
      "26\n",
      "Review: puerto rico 39 19 year old stephanie del has been crowned as the miss world 2016 at an event held in maryland us miss dominican republic ramirez was the first runner up notably is the second puerto rican to hold the title after won it in 1975 india 39 priyadarshini chatterjee also reached the top 20 \n",
      "Original summary: start 39 del crowned miss world 2016 end \n",
      "Predicted summary:  start world 39 most expensive was sold for end\n",
      "\n",
      "\n",
      "27\n",
      "Review: former british prime minister david cameron jokingly said that the england cricket team should train with sachin tendulkar following their recent defeats 34 given the way the test series between india and england is going we need to kidnap him tendulkar for training 34 said cameron he also added that one must 34 never play golf with us president barack obama 34 since they cannot win \n",
      "Original summary: start need to kidnap sachin to train england team ex british pm end \n",
      "Predicted summary:  start kohli 39 is the most important in the stumps end\n",
      "\n",
      "\n",
      "28\n",
      "Review: british fighter jets intercepted two russian bomber planes and escorted them out of uk 39 34 area of interest 34 near scotland uk officials said on thursday the russian bombers capable of carrying 16 nuclear missiles did not enter uk 39 airspace the officials added notably between 2010 and 2015 there have been 50 such instances between russia and uk \n",
      "Original summary: start russian bombers near uk end \n",
      "Predicted summary:  start n korea fires ballistic missiles into end\n",
      "\n",
      "\n",
      "29\n",
      "Review: india is planning to supply 500 mw power to sri lanka through network of sub sea underground cables union power secretary pk has said sri lanka needs power from india to meet its domestic needs but nothing has in the absence of an adequate transmission infrastructure 34 submarine cable is good technology at reasonable cost added \n",
      "Original summary: start india to supply 500 mw power to sl via sub sea end \n",
      "Predicted summary:  start india 39 gdp growth forecast to be in fy16 end\n",
      "\n",
      "\n",
      "30\n",
      "Review: the left democratic front is set to return to power in kerala according to the india today axis exit poll which predicts majority for the cpm led alliance in the assembly elections the times now and cvoter exit polls also predicted win for the ldf the polls predict that the incumbent congress led udf will be reduced to the second position \n",
      "Original summary: start exit polls polls predict left win in kerala end \n",
      "Predicted summary:  start aap 39 39 vikas yatra 39 39 hits the theatres end\n",
      "\n",
      "\n",
      "31\n",
      "Review: bjp leader kirit somaiya on wednesday said the party will contest alone in 227 wards in the upcoming brihanmumbai municipal corporation polls the bjp 34 will end the corruption of shiv sena 34 he added taking dig at the shiv sena somaiya had earlier called bmc of stating one has to bribe godfather to get the work done \n",
      "Original summary: start bjp to contest alone in in bmc polls end \n",
      "Predicted summary:  start bjp leader naresh yadav 39 wife end\n",
      "\n",
      "\n",
      "32\n",
      "Review: a us based woman and mother of four children cara has built five bedroom home at cost of 36 lakh by just watching youtube tutorial videos 34 we could afford all the supplies so we just put it together ourselves 34 said who had no prior experience in construction it took year to complete the home \n",
      "Original summary: start woman builds five home by watching youtube videos end \n",
      "Predicted summary:  start man sues for selling 39 39 end\n",
      "\n",
      "\n",
      "33\n",
      "Review: the finance ministry on friday clarified that it is not considering any proposal to seal bank lockers or jewellery the ministry 39 clarification came as part of series of 39 myth vs reality 39 tweets on demonetisation it also clarified that the ink on ₹2 000 notes will get transferred on to cloth when it is against the note \n",
      "Original summary: start no plan to seal jewellery govt end \n",
      "Predicted summary:  start 39 39 most searched on zomato end\n",
      "\n",
      "\n",
      "34\n",
      "Review: the government on thursday revealed that around 20 000 women and children were victims of human trafficking in india in 2016 the government said that 19 223 women and children were trafficked in 2016 as against 15 in 2015 furthermore the highest number of such victims was recorded from west bengal which shares porous border with bangladesh \n",
      "Original summary: start around 20 000 women children in india in 2016 end \n",
      "Predicted summary:  start delhi metro to get free wifi in end\n",
      "\n",
      "\n",
      "35\n",
      "Review: the supreme court on friday ordered two senior advocates to defend four death row convicts in the 2012 nirbhaya gangrape and murder case advocates raju ramachandran and sanjay hegde have been asked to assist special bench as the court was not satisfied by the defence lawyers the convicts hired notably the court began hearing the appeal on april 4 \n",
      "Original summary: start sc appoints for nirbhaya rape convicts end \n",
      "Predicted summary:  start sc refuses to hear plea against rape accused end\n",
      "\n",
      "\n",
      "36\n",
      "Review: after myntra app users received notifications of orders they never placed on their smartphones the fashion retailer said 34 sorry we up 34 in blog post on friday myntra 39 chief technology and product officer sharma said the glitch was the result of code change in the notification servers however the glitch has been fixed by myntra \n",
      "Original summary: start sorry we up says myntra on tech glitch end \n",
      "Predicted summary:  start twitter reacts to google 39 39 39 end\n",
      "\n",
      "\n",
      "37\n",
      "Review: pramod kumar delhi bus driver returned stolen wallet to its owner sunita dua resident of gurgaon kumar found the wallet at one of the stops called dua and fixed time and place with her to return it while the cash was missing the wallet still contained credit cards pan card and driving license kumar informed \n",
      "Original summary: start delhi bus driver returns stolen wallet to owner end \n",
      "Predicted summary:  start 39 39 day of 39 39 is celebrated on october end\n",
      "\n",
      "\n",
      "38\n",
      "Review: ahead of the proposed pro reservation jat agitation on june sonipat district magistrate makarand on saturday issued an order banning mobile internet service in the district with immediate effect the ban would be effective till further orders the administration said there were chances that mobile internet services might be used to spread wrong information and rumours \n",
      "Original summary: start bans mobile internet in the district end \n",
      "Predicted summary:  start ngt orders ban on nationwide strike end\n",
      "\n",
      "\n",
      "39\n",
      "Review: the railways ministry is planning 240 kilometre railway line connecting port blair with on the andaman and nicobar islands the line set to cost over ₹2 413 crore and be the first on the archipelago has tourism potential and 34 strategic value 34 for defence forces the railways and union territory administration will share its operational profits or loss \n",
      "Original summary: start railways plans first train on andaman and islands end \n",
      "Predicted summary:  start railways to train prices of end\n",
      "\n",
      "\n",
      "40\n",
      "Review: women bus in kerala have tendered mass resignation over the disparity in pay when compared to their male counterparts according to reports the women are allegedly paid just over half the amount men earn the government claimed that 26 of the 90 women are still on the job while reports claimed only one woman was still working \n",
      "Original summary: start women bus in kerala resign over pay end \n",
      "Predicted summary:  start 39 39 39 to be held in delhi end\n",
      "\n",
      "\n",
      "41\n",
      "Review: ethiopia on sunday urged international donors to promptly help support 10 2 million people in the country suffering from critical food shortage amid drought donors covered 30 of the 1 4 billion needed this year for relief operations by charities and the government ethiopia is reportedly among the poorest countries in africa per capita with many relying on self farming \n",
      "Original summary: start ethiopia seeks support for drought needs end \n",
      "Predicted summary:  start over 000 migrants rescued in india end\n",
      "\n",
      "\n",
      "42\n",
      "Review: prime minister narendra modi on saturday warned of the for the after december 30 people you should not the mood of 125 crore people you will have to be afraid of this is cleanliness campaign modi said further the government will not shy away from taking difficult decisions in the country 39 interest he added \n",
      "Original summary: start people will face after dec 30 says pm modi end \n",
      "Predicted summary:  start pm modi meets pm modi over 39 39 end\n",
      "\n",
      "\n",
      "43\n",
      "Review: portuguese footballer cristiano ronaldo is the world’s highest paid sportsman with 88 million yearly earnings as per 100 list of the top earning celebrities worldwide argentina and barcelona forward lionel messi is the second on the list with yearly earnings of 81 5 million notably no indian sportsperson or cricketer features in the list \n",
      "Original summary: start ronaldo world’s highest earning forbes end \n",
      "Predicted summary:  start 39 39 most searched on google today end\n",
      "\n",
      "\n",
      "44\n",
      "Review: singer beyoncé 39 husband and american rapper jay is launching his own venture capital firm with long time partner jay brown to provide seed funding to young startups besides rapping jay has been an active investor and invested in many startups including uber private jet startup jetsmarter and cosmetics startup \n",
      "Original summary: start rapper to launch vc fund to invest in startups end \n",
      "Predicted summary:  start facebook 39 new app lets users buy end\n",
      "\n",
      "\n",
      "45\n",
      "Review: technology giant apple has acquired us based machine learning platform for developers and data scientists for reported 200 million previously known as 39 39 the startup changed its name to in july this year after trademark dispute “the company buys smaller technology companies from time to time 34 said apple in statement \n",
      "Original summary: start apple acquires machine learning startup end \n",
      "Predicted summary:  start google to launch its own app for the year end\n",
      "\n",
      "\n",
      "46\n",
      "Review: tamil actor rajinikanth has said the recently deceased cm jayalalithaa had lost the tamil nadu state assembly elections in 1996 because of speech he made 34 if jayalalithaa is voted back to power even god cannot save tamil nadu 34 rajinikanth had said calling her 34 kohinoor diamond 34 while paying his last tributes rajinikanth praised jayalalithaa for standing strong against \n",
      "Original summary: start jayalalithaa lost elections because of me rajinikanth end \n",
      "Predicted summary:  start i am not to be the next year khan end\n",
      "\n",
      "\n",
      "47\n",
      "Review: as per reports kangana ranaut has gifted her flat worth over ₹2 crore to her yoga teacher surya singh it will reportedly be converted into yoga centre kangana who has been learning yoga from him since she was 18 feels it 39 her 39 guru 39 to singh who has been pillar of strength in her life source said \n",
      "Original summary: start kangana gifts over ₹2 crore flat to her yoga teacher report end \n",
      "Predicted summary:  start priyanka chopra to appear on 39 39 day end\n",
      "\n",
      "\n",
      "48\n",
      "Review: a courier in new york who used to deliver food for uber under the company 39 vertical has filed lawsuit against the company over unpaid tips the courier claims that the tips from customers never made it to him and other delivery personnel for and both and deliver food to customers 39 doorstep from nearby restaurants \n",
      "Original summary: start uber sued over missing food delivery tips end \n",
      "Predicted summary:  start us university candidate for 39 39 39 end\n",
      "\n",
      "\n",
      "49\n",
      "Review: an earthquake measuring magnitude 4 5 on the richter scale struck nepal on tuesday and was felt in kathmandu valley and adjoining districts at 3 11 am local time according to the national centre its epicentre was located at village in district earlier an earthquake of magnitude 4 8 struck nepal on sunday \n",
      "Original summary: start earthquake of magnitude 4 5 strikes nepal end \n",
      "Predicted summary:  start earthquake of magnitude 6 6 strikes italy end\n",
      "\n",
      "\n"
     ]
    }
   ],
   "source": [
    "print(len(x_test))\n",
    "y_pred = []\n",
    "for i in range(50):\n",
    "    print(f\"{i}\")\n",
    "    print(\"Review:\",seq2text(x_test[i]))\n",
    "    print(\"Original summary:\",seq2summary(y_test[i]))\n",
    "    y_pred.append(decode_sequence(x_test[i].reshape(1,max_text_len)))\n",
    "    print(\"Predicted summary:\",y_pred[-1])\n",
    "    print(\"\\n\")"
   ]
  },
  {
   "cell_type": "code",
   "execution_count": 48,
   "metadata": {
    "execution": {
     "iopub.execute_input": "2021-12-28T12:29:13.480187Z",
     "iopub.status.busy": "2021-12-28T12:29:13.479902Z",
     "iopub.status.idle": "2021-12-28T12:29:19.61293Z",
     "shell.execute_reply": "2021-12-28T12:29:19.612057Z",
     "shell.execute_reply.started": "2021-12-28T12:29:13.48014Z"
    }
   },
   "outputs": [
    {
     "name": "stdout",
     "output_type": "stream",
     "text": [
      "0.6016654080823338\n"
     ]
    }
   ],
   "source": [
    "def BLEU_Score(y_test, y_pred):\n",
    "    references = [[seq2summary(y_test).split(\" \")]]\n",
    "    candidates = [decode_sequence(y_pred.reshape(1,max_text_len)).split(\" \")]\n",
    "    return corpus_bleu(references, candidates)\n",
    "\n",
    "from nltk.translate.bleu_score import corpus_bleu\n",
    "scores=[]\n",
    "for i in range(25):\n",
    "    scores.append(BLEU_Score(y_test[i],x_test[i]))\n",
    "    \n",
    "print(np.mean(scores))"
   ]
  }
 ],
 "metadata": {
  "kernelspec": {
   "display_name": "Python 3",
   "language": "python",
   "name": "python3"
  },
  "language_info": {
   "codemirror_mode": {
    "name": "ipython",
    "version": 3
   },
   "file_extension": ".py",
   "mimetype": "text/x-python",
   "name": "python",
   "nbconvert_exporter": "python",
   "pygments_lexer": "ipython3",
   "version": "3.6.6"
  }
 },
 "nbformat": 4,
 "nbformat_minor": 4
}
